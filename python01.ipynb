{
 "cells": [
  {
   "cell_type": "markdown",
   "id": "52d60c9a-8608-43ef-9ee1-d978d3da7d03",
   "metadata": {},
   "source": [
    "# 주피터랩 단축키\n",
    "- a : 위 셀 추가\n",
    "- b : 아래셀 추가\n",
    "- ctrl + shift + 위 : 셀 위로 이동\n",
    "- ctrl + shift + 아래 : 셀 아래로 이동\n",
    "- shift + enter : 셀 실행\n",
    "- dd : 셀 삭제\n",
    "- x : 셀 잘라내기\n",
    "- c : 셀 복사\n",
    "- v : 셀 붙여넣기\n",
    "- z : undo\n",
    "- shift + z : redo"
   ]
  },
  {
   "cell_type": "markdown",
   "id": "f5201479-fa7a-4b01-b73c-5da3005e21a5",
   "metadata": {},
   "source": [
    "# print기초"
   ]
  },
  {
   "cell_type": "code",
   "execution_count": 9,
   "id": "bd2856b0-54a2-490a-8439-9163c0dcb973",
   "metadata": {},
   "outputs": [
    {
     "name": "stdout",
     "output_type": "stream",
     "text": [
      "사실은 두번째\n"
     ]
    }
   ],
   "source": [
    "# print(\"집에 가도되나요?\")\n",
    "print('사실은 두번째')"
   ]
  },
  {
   "cell_type": "code",
   "execution_count": 1,
   "id": "ddecee4e-67a8-47dd-a31b-bc7ab6c28c27",
   "metadata": {},
   "outputs": [
    {
     "name": "stdout",
     "output_type": "stream",
     "text": [
      "주피터랩에 처음이에요\n"
     ]
    }
   ],
   "source": [
    "print('주피터랩에 처음이에요')"
   ]
  },
  {
   "cell_type": "code",
   "execution_count": 2,
   "id": "02b01c76-9628-434d-af09-91fc023ff6ad",
   "metadata": {},
   "outputs": [
    {
     "name": "stdout",
     "output_type": "stream",
     "text": [
      "4610\n"
     ]
    }
   ],
   "source": [
    "print(1277+3333)"
   ]
  },
  {
   "cell_type": "code",
   "execution_count": 10,
   "id": "40741529-7ad3-46d4-afce-31cf0b36207a",
   "metadata": {},
   "outputs": [
    {
     "name": "stdout",
     "output_type": "stream",
     "text": [
      "배고프다말입니다."
     ]
    }
   ],
   "source": [
    "print('배고프다', end='말입니다.')"
   ]
  },
  {
   "cell_type": "code",
   "execution_count": 13,
   "id": "94cec575-ecb9-4418-a803-e4a43ea2f772",
   "metadata": {},
   "outputs": [
    {
     "name": "stdout",
     "output_type": "stream",
     "text": [
      "시간이 많이 남았어...\n"
     ]
    }
   ],
   "source": [
    "import time as t\n",
    "print('배고프다', end='\\r')\n",
    "t.sleep(1)\n",
    "print('근데  ', end='\\r')\n",
    "t.sleep(1)\n",
    "print('시간이 많이 남았어...')"
   ]
  },
  {
   "cell_type": "code",
   "execution_count": 17,
   "id": "304de2f7-57df-4b4d-840d-411ca746c83d",
   "metadata": {},
   "outputs": [
    {
     "name": "stdout",
     "output_type": "stream",
     "text": [
      "123 -178 0\n"
     ]
    }
   ],
   "source": [
    "# 정수형\n",
    "a = 123\n",
    "b =-178\n",
    "c = 0\n",
    "print(a,b,c)"
   ]
  },
  {
   "cell_type": "code",
   "execution_count": 16,
   "id": "031b7882-62ab-43ce-94d7-fe2de64d486f",
   "metadata": {},
   "outputs": [
    {
     "name": "stdout",
     "output_type": "stream",
     "text": [
      "덧셈 223\n",
      "뺄셈 23\n",
      "곱셈 12300\n",
      "나눗셈 1.23\n",
      "몫 1\n",
      "나머지 23\n",
      "승 15129\n"
     ]
    }
   ],
   "source": [
    "# 사직연산 예\n",
    "print('덧셈',123 + 100)\n",
    "print('뺄셈',123 - 100)\n",
    "print('곱셈',123 * 100)\n",
    "print('나눗셈',123 / 100)\n",
    "print('몫',123 // 100)\n",
    "print('나머지',123 % 100)\n",
    "print('승',123 ** 2)"
   ]
  },
  {
   "cell_type": "code",
   "execution_count": 18,
   "id": "2894aaed-9789-45b8-81b2-a9b3f8b07a0d",
   "metadata": {},
   "outputs": [
    {
     "name": "stdout",
     "output_type": "stream",
     "text": [
      "1.2 -3.14 4.24e-10\n"
     ]
    }
   ],
   "source": [
    "# 실수형\n",
    "aa = 1.2\n",
    "bb = -3.14\n",
    "cc = 4.24e-10\n",
    "print(aa,bb,cc)"
   ]
  },
  {
   "cell_type": "code",
   "execution_count": 19,
   "id": "02f8f365-696d-43c9-a8c8-959ad57378ed",
   "metadata": {},
   "outputs": [
    {
     "name": "stdout",
     "output_type": "stream",
     "text": [
      "81\n"
     ]
    }
   ],
   "source": [
    "a = 3\n",
    "b = 4\n",
    "print(a**b)"
   ]
  },
  {
   "cell_type": "code",
   "execution_count": 22,
   "id": "2979f212-4a5c-4456-b217-a9414c8bc96b",
   "metadata": {},
   "outputs": [
    {
     "name": "stdout",
     "output_type": "stream",
     "text": [
      "2\n",
      "3\n",
      "4\n"
     ]
    }
   ],
   "source": [
    "# 복합연산자\n",
    "a = 1\n",
    "a = a + 1\n",
    "print(a)\n",
    "a = a + 1\n",
    "print(a)\n",
    "a = a + 1\n",
    "print(a)"
   ]
  },
  {
   "cell_type": "code",
   "execution_count": 23,
   "id": "9fbeeb78-c8b9-4128-92af-32af10b71908",
   "metadata": {
    "jp-MarkdownHeadingCollapsed": true
   },
   "outputs": [],
   "source": [
    "# 복합연산자\n",
    "a = 10"
   ]
  },
  {
   "cell_type": "code",
   "execution_count": 24,
   "id": "620dc6a4-2ccf-4f39-9ea8-35148994b517",
   "metadata": {},
   "outputs": [
    {
     "name": "stdout",
     "output_type": "stream",
     "text": [
      "9\n"
     ]
    }
   ],
   "source": [
    "a -= 1\n",
    "print(a)"
   ]
  },
  {
   "cell_type": "markdown",
   "id": "69847956-0b6d-4fed-9e6b-a59ae3a74951",
   "metadata": {},
   "source": [
    "# 자료형"
   ]
  },
  {
   "cell_type": "code",
   "execution_count": 27,
   "id": "95710c88-4cf7-4b0e-9407-7189bc87dbba",
   "metadata": {},
   "outputs": [
    {
     "name": "stdout",
     "output_type": "stream",
     "text": [
      "아메리카노:17100원\n",
      "라떼:7200원\n",
      "허브티13200원\n",
      "\n"
     ]
    }
   ],
   "source": [
    "p1 = 5700 * 3\n",
    "p2 = 7200 * 1\n",
    "p3 = 6600 * 2\n",
    "m1 = '아메리카노:' + str(p1) + '원\\n'\n",
    "m2 = '라떼:' + str(p2) + '원\\n'\n",
    "m3 = '허브티' + str(p3) + '원' '\\n'\n",
    "title = ' ' + ' 영수증 ' \n",
    "print(m1+m2+m3)"
   ]
  },
  {
   "cell_type": "code",
   "execution_count": 28,
   "id": "49bfad6c-5fbe-4ce4-81a1-9a4e751b5136",
   "metadata": {},
   "outputs": [
    {
     "name": "stdout",
     "output_type": "stream",
     "text": [
      "17\n"
     ]
    }
   ],
   "source": [
    "a = 'Life is too short'\n",
    "print(len(a))"
   ]
  },
  {
   "cell_type": "code",
   "execution_count": 30,
   "id": "6d3642ac-f6db-4478-bebf-e222aa90534d",
   "metadata": {},
   "outputs": [
    {
     "data": {
      "text/plain": [
       "'L'"
      ]
     },
     "execution_count": 30,
     "metadata": {},
     "output_type": "execute_result"
    }
   ],
   "source": [
    "a[0]"
   ]
  },
  {
   "cell_type": "code",
   "execution_count": 31,
   "id": "a10ee48d-2f77-4ebf-bae3-c6b64f533719",
   "metadata": {},
   "outputs": [
    {
     "name": "stdout",
     "output_type": "stream",
     "text": [
      "L i f e\n"
     ]
    }
   ],
   "source": [
    "print(a[0],a[1],a[2],a[3])"
   ]
  },
  {
   "cell_type": "code",
   "execution_count": null,
   "id": "1bb4af08-c193-47c8-9e74-a1e753901061",
   "metadata": {},
   "outputs": [],
   "source": [
    "# too 출력하기\n",
    "print(a[??])"
   ]
  },
  {
   "cell_type": "code",
   "execution_count": null,
   "id": "d4b0b608-ba7c-4335-bf16-38afd97b3e5a",
   "metadata": {},
   "outputs": [],
   "source": []
  },
  {
   "cell_type": "code",
   "execution_count": 34,
   "id": "5fe01a51-bb42-4e2a-ba2b-d5fb7ac71a63",
   "metadata": {},
   "outputs": [
    {
     "name": "stdout",
     "output_type": "stream",
     "text": [
      "\n"
     ]
    }
   ],
   "source": [
    "print(a[28:])"
   ]
  },
  {
   "cell_type": "code",
   "execution_count": null,
   "id": "520a1304-29f8-4260-af69-fead1737cf07",
   "metadata": {},
   "outputs": [],
   "source": [
    "today = '20250203오늘은화창하다'"
   ]
  },
  {
   "cell_type": "code",
   "execution_count": 55,
   "id": "8932dea0-e542-4572-8f7e-bc52b5c0725e",
   "metadata": {},
   "outputs": [
    {
     "name": "stdout",
     "output_type": "stream",
     "text": [
      "dateweather\n"
     ]
    }
   ],
   "source": [
    "today = '20250203오늘은화창하다'\n",
    "date = today[:8]\n",
    "weather = today[8:]\n",
    "print( + )"
   ]
  },
  {
   "cell_type": "code",
   "execution_count": 59,
   "id": "5df108d9-09fe-4197-9a34-a06cdf0a89c3",
   "metadata": {},
   "outputs": [
    {
     "name": "stdout",
     "output_type": "stream",
     "text": [
      "2025년2월3일오늘은화창하다\n"
     ]
    }
   ],
   "source": [
    "today = '20250203오늘은화창하다'\n",
    "year = today[:4]\n",
    "month = today[5:6]\n",
    "day = today[7:8]\n",
    "weather = today[8:]\n",
    "print(year+'년'  +month+'월' + day+'일' + weather)"
   ]
  },
  {
   "cell_type": "code",
   "execution_count": 65,
   "id": "8c82f7d5-29d9-41b4-9d7a-54c786dfdc44",
   "metadata": {},
   "outputs": [
    {
     "name": "stdout",
     "output_type": "stream",
     "text": [
      "한국서 돈벌고 '나 몰라라' 코스트코… 연회비 인상률은 미국의 3배\n"
     ]
    }
   ],
   "source": [
    "import requests\n",
    "url = 'https://v.daum.net/v/20250203151815463'\n",
    "res = requests.get(url).text\n",
    "print(res[374:409]+'3'+res[410])"
   ]
  },
  {
   "cell_type": "code",
   "execution_count": 66,
   "id": "44e28a4f-fdd4-42cd-a368-33f6b822d0b9",
   "metadata": {},
   "outputs": [
    {
     "name": "stdout",
     "output_type": "stream",
     "text": [
      "\n",
      "\n",
      "\n",
      "\n",
      "\n",
      "\n",
      "\n",
      "<!DOCTYPE html PUBLIC \"-//W3C//DTD XHTML 1.0 Transitional//EN\" \"http://www.w3.org/TR/xhtml1/DTD/xhtml1-transitional.dtd\">\n",
      "<!-- [D] XHTML 1.0 형식에 맞게 언어속성 추가-->\n",
      "<html xmlns=\"http://www.w3.org/1999/xhtml\" xml:lang=“ko“ lang=\"ko\">\n",
      "<head>\n",
      "<meta http-equiv=\"Pragma\" content=\"no-cache\"/>\n",
      "<meta http-equiv=\"Expires\" content=\"-1\"/>\n",
      "<meta name=\"robots\" content=\"noindex,follow\"/>\n",
      "<meta name=\"referrer\" content=\"always\"/>\n",
      "<meta http-equiv=\"content-type\" content=\"text/html;charset=UTF-8\"/>\n",
      "<meta http-equiv=\"X-UA-Compatible\" content=\"IE=edge,chrome=1\" />\n",
      "<link rel=\"shortcut icon\" type=\"image/x-icon\" href=\"/favicon.ico?3\" />\n",
      "<link rel=\"alternate\" type=\"application/rss+xml\" href=\"https://rss.blog.naver.com/droad777.xml\" title=\"RSS feed for droad777 Blog\"/>\n",
      "<link rel=\"wlwmanifest\" type=\"application/wlwmanifest+xml\" href=\"https://blog.naver.com/NBlogWlwLayout.naver?blogId=droad777\" />\n",
      "\n",
      "\n",
      "\n",
      "\n",
      "<title>뿌요의 톡쏘는 일상 : 네이버 블로그</title>\n",
      "</head>\n",
      "<script type=\"text/javascript\" src=\"https://ssl.pstatic.net/t.static.blog/mylog/versioning/Frameset-341345692_https.js\" charset=\"UTF-8\"></script>\n",
      "\n",
      "<script type=\"text/javascript\" charset=\"UTF-8\">\n",
      "var photoContent=\"\";\n",
      "var postContent=\"\";\n",
      "\n",
      "var videoId \t  = \"\";\n",
      "var thumbnail \t  = \"\";\n",
      "var inKey \t\t  = \"\";\n",
      "var movieFileSize = \"\";\n",
      "var playTime \t  = \"\";\n",
      "var screenSize \t  = \"\";\n",
      "\n",
      "var blogId = 'droad777';\n",
      "var blogURL = 'https://blog.naver.com';\n",
      "var eventCnt = '';\n",
      "\n",
      "var g_ShareObject = {};\n",
      "g_ShareObject.referer = \"\";\n",
      "\n",
      "\n",
      "jsMVC.setController(\"framesetTitleController\", FramesetTitleController);\n",
      "jsMVC.setController(\"framesetUrlController\", FramesetUrlController);\n",
      "jsMVC.setController(\"framesetMusicController\", FramesetMusicController);\n",
      "var oFramesetTitleController = jsMVC.getController(\"framesetTitleController\");\n",
      "var oFramesetUrlController = jsMVC.getController(\"framesetUrlController\");\n",
      "var oFramesetMusicController = jsMVC.getController(\"framesetMusicController\");\n",
      "var sTitle = document.title;\n",
      "\n",
      "var topFrameAlert = function(message){\n",
      "\talert(message);\n",
      "};\n",
      "\n",
      "var topFrameConfirm = function(message){\n",
      "\tif(confirm(message)){\n",
      "\t\treturn true;\n",
      "\t} else {\n",
      "\t\treturn false;\n",
      "\t}\n",
      "};\n",
      "</script>\n",
      "<style type=\"text/css\">\n",
      "    html{width:100%;height:100%;}\n",
      "    body{width:100%;height:100%;margin:0;padding:0;font-size:0;}\n",
      "    #mainFrame{width:100%;height:100%;margin:0;padding:0;border:0;}\n",
      "    #hiddenFrame{width:0;height:0;margin:0;padding:0;border:0;}\n",
      "</style>\n",
      "<body>\n",
      "<iframe id=\"mainFrame\" name=\"mainFrame\" allowfullscreen=\"true\"\n",
      "\t\tsrc=\"/PostList.naver?blogId=droad777&widgetTypeCall=true&noTrackingCode=true&directAccess=true\"\n",
      "\t\tscrolling=\"auto\"\n",
      "\t\tonload=\"oFramesetTitleController.start(self.frames['mainFrame'], self, sTitle);oFramesetTitleController.onLoadFrame();oFramesetUrlController.start(self.frames['mainFrame']);oFramesetUrlController.onLoadFrame();document.querySelector('#mainFrame').focus();\"\n",
      "\t\tallowfullscreen></iframe>\n",
      "</body>\n",
      "</html>\n"
     ]
    }
   ],
   "source": [
    "import requests\n",
    "url = 'https://blog.naver.com/droad777'\n",
    "res = requests.get(url).text\n",
    "print(res)"
   ]
  },
  {
   "cell_type": "code",
   "execution_count": null,
   "id": "ec106e0c-b339-47c6-9137-2d472ff13a17",
   "metadata": {},
   "outputs": [],
   "source": [
    "print('I eat 3 apples')\n",
    "print('I eat %d apples')\n",
    "print('I eat 3 apples')"
   ]
  },
  {
   "cell_type": "code",
   "execution_count": 2,
   "id": "f382c83d-0779-4b98-a180-c98a81d07ebf",
   "metadata": {},
   "outputs": [
    {
     "name": "stdout",
     "output_type": "stream",
     "text": [
      "사람 몸의 수분은 60% 이다.\n"
     ]
    }
   ],
   "source": [
    "print('사람 몸의 수분은 %d%% 이다.'%60)"
   ]
  },
  {
   "cell_type": "code",
   "execution_count": 4,
   "id": "749efd98-a66d-4389-81c2-71c3bf13da2a",
   "metadata": {},
   "outputs": [
    {
     "name": "stdout",
     "output_type": "stream",
     "text": [
      "십진수로 123은 16진수로 7b이다.\n",
      "십진수로 123은 8진수로 173이다.\n"
     ]
    }
   ],
   "source": [
    "print('십진수로 %d은 16진수로 %x이다.' %(123,123))\n",
    "print('십진수로 %d은 8진수로 %o이다.' %(123,123))"
   ]
  },
  {
   "cell_type": "code",
   "execution_count": null,
   "id": "2461f226-0748-4b7f-94b7-2d821a886d71",
   "metadata": {},
   "outputs": [],
   "source": [
    "print()"
   ]
  },
  {
   "cell_type": "code",
   "execution_count": null,
   "id": "923670bc-a9f3-417a-b722-542836caca3d",
   "metadata": {},
   "outputs": [],
   "source": [
    "<img src=>"
   ]
  },
  {
   "attachments": {
    "a94c77a0-dbbb-49c6-8ec5-461178e1e1c9.png": {
     "image/png": "[encoded data removed]"
    }
   },
   "cell_type": "markdown",
   "id": "6fdae655-1e40-4f24-aab7-8962b09b2c17",
   "metadata": {},
   "source": [
    "![image.png](attachment:a94c77a0-dbbb-49c6-8ec5-461178e1e1c9.png)"
   ]
  },
  {
   "cell_type": "code",
   "execution_count": null,
   "id": "aabb05c3-537e-4e8e-8d7b-32bee6da159c",
   "metadata": {},
   "outputs": [],
   "source": [
    "                                                                                                                                                                                                                                                                                                                                                                                                                                                                                                                                                                                                                                                                                                                                                                                                                                                                                                                                                                                                                                                                                                                                                                                                                                                                                                                                                                                                                                                                                                                                                                                                                                                                                                                                                                                                                                                                                                                                                                                                                                                                                                                                                                                                                                                                                                                                                                                                                                                                                                                                                                                                                                                                                                                                                                                                                                                                                                                                                                                                                                                                                                                                                                                                                                                                                                                                                                                                                                                                                                                                                                                                                                                                                                                                                                                                                                                                                                                                                                                                                                                                                                                                                                                                                                                                                                                                                                                                                                                                                                                                                                                                                                                                                                                                                                                                                                                                                                                                                                                                                                                                                                                                                                                                                                                                                                                                                                                                                                                                                                                                                                                                                                                                                                                                                                                                                                                                                                                                                                                                                                                                                                                                                                                                                                                                                                                                                                                                                                                                                                                                                                                                                                                                                                                                                                                                                                                                                                                                                                                                                                                                                                                                                                                                                                                                                                                                                                                                                                                                                                                                                                                                                                                                                                                                                                                                                                                                                                                                                                                                                                                                                                                                                                                                                                                                                                                                                                                                                                                                                                                                                                                                                                                                                                                                                                                                                                                                                                                                                                                                                                                                                                                                                                                                                                                                                                                                                                                                                                                                                                                                                                                                                                                                                                                                                                                                                                                                                                                                                                                                                                                                                                                                                                                                                                                                                                                                                                                                                                                                                                                                                                                                                                                                                                                                                                                                                                                                                                                                                                                                                                                                                                                                                                                                                                                                                                                                                                                                                                                                                                                                                                                                                                                                                                                                                                                                                                                                                                                                                                                                                                                                                                                                                                                                                                                                                                                                                                                                                                                                                                                                                                                                                                                                                                                                                                                                                                                                                                                                                                                                                                                                                                                                                                                                                                                                                                                                                                                                                                                                                                                                                                                                                                                                                                                                                                                                                                                                                                                                                                                                                                                                                                                                                                                                                                                                                                                                                                                                                                                                                                                                                                                                                                                                                                                                                                                                                                                                                                                                                                                                                                                                                                                                                                                                                                                                                                                                                                                                                                                                                                                                                                                                                                                                                                                                                                                                                                                                                                                                                                                                                                                                                                                                                                                                                                                                                                                                                                                                                                                                                                                                                                                                                                                                                                                                                                                                                                                                                                                                                                                                                                                                                                                                                                                                                                                                                                                                                                                                                                                                                                                                                                                                                                                                                                                                                                                                                                                                                                                                                                                                                                                                                                                                                                                                                                                                                                                                                                                                                                                                                                                                                                                                                                                                                                                                                                                                                                                                                                                                                                                                                                                                                                                                                                                                                                                                                                                                                                                                                                                                                                                                                                                                                                                                                                                                                                                                                                                                                                                                                                                                                                                                                                                                                                                                                                                                                                           "
   ]
  },
  {
   "cell_type": "code",
   "execution_count": 5,
   "id": "dc5ced8d-5b39-4f2e-a6db-93841b083493",
   "metadata": {},
   "outputs": [
    {
     "name": "stdout",
     "output_type": "stream",
     "text": [
      "I eat 3 of 10 apples\n"
     ]
    }
   ],
   "source": [
    "# 바로 대입하기\n",
    "print('I eat {0} of {1} apples'.format(3,10))"
   ]
  },
  {
   "cell_type": "code",
   "execution_count": 6,
   "id": "302ba33e-041c-4ea0-9f30-9e33e569b2d8",
   "metadata": {},
   "outputs": [
    {
     "name": "stdout",
     "output_type": "stream",
     "text": [
      "I eat three of 10 apples\n"
     ]
    }
   ],
   "source": [
    "# 변수로 대입하기\n",
    "total = 10\n",
    "ea = 'three'\n",
    "print('I eat {0} of {1} apples'.format(ea,total))"
   ]
  },
  {
   "cell_type": "code",
   "execution_count": 7,
   "id": "72f67fd7-87dd-4165-950c-af88e5fee252",
   "metadata": {},
   "outputs": [
    {
     "name": "stdout",
     "output_type": "stream",
     "text": [
      "I eat three of 10 apples\n"
     ]
    }
   ],
   "source": [
    "print('I eat {ea} of {total} apples'.format(ea='three',total=10))"
   ]
  },
  {
   "cell_type": "code",
   "execution_count": 10,
   "id": "95dbe8ea-b594-412c-ad02-28cccc9ebdb9",
   "metadata": {},
   "outputs": [
    {
     "name": "stdout",
     "output_type": "stream",
     "text": [
      "I ate 10 apples. so i was sick for 3 days.\n"
     ]
    }
   ],
   "source": [
    "# 인덱스와 이름을 혼용해서 넣기\n",
    "print(\"I ate {0} apples. so i was sick for {day} days.\".format(10, day=3))"
   ]
  },
  {
   "cell_type": "code",
   "execution_count": 11,
   "id": "7ddd986c-bc46-4be8-ac39-ebaffb295a84",
   "metadata": {},
   "outputs": [
    {
     "name": "stdout",
     "output_type": "stream",
     "text": [
      "        hi\n"
     ]
    }
   ],
   "source": [
    "# 우측정렬\n",
    "print(\"{0:>10}\".format(\"hi\"))"
   ]
  },
  {
   "cell_type": "code",
   "execution_count": 12,
   "id": "38c7ee4a-1f4b-458b-93a7-a51faaa22698",
   "metadata": {},
   "outputs": [
    {
     "name": "stdout",
     "output_type": "stream",
     "text": [
      "    hi    \n"
     ]
    }
   ],
   "source": [
    "# 가운데 정렬\n",
    "print(\"{0:^10}\".format(\"hi\"))"
   ]
  },
  {
   "cell_type": "code",
   "execution_count": 13,
   "id": "34f39286-bcca-40b5-a98c-2b83392bb114",
   "metadata": {},
   "outputs": [
    {
     "name": "stdout",
     "output_type": "stream",
     "text": [
      "hi        \n"
     ]
    }
   ],
   "source": [
    "# 좌측 정렬\n",
    "print(\"{0:<10}\".format(\"hi\"))"
   ]
  },
  {
   "cell_type": "code",
   "execution_count": 15,
   "id": "f68ba624-ba0e-4ab7-ab58-8592fab2a4a7",
   "metadata": {},
   "outputs": [
    {
     "name": "stdout",
     "output_type": "stream",
     "text": [
      "====hi====\n"
     ]
    }
   ],
   "source": [
    "# 가운데 정렬 + 글자 채우기\n",
    "print(\"{0:=^10}\".format(\"hi\"))"
   ]
  },
  {
   "cell_type": "code",
   "execution_count": 16,
   "id": "d6ef2384-2f5f-4898-a8bb-5a071010200c",
   "metadata": {},
   "outputs": [
    {
     "name": "stdout",
     "output_type": "stream",
     "text": [
      "ㅋㅋㅋㅋㅋㅋㅋㅋㅋ웃겨ㅋㅋㅋㅋㅋㅋㅋㅋㅋ\n"
     ]
    }
   ],
   "source": [
    "# 가운데 정렬 + 글자 채우기\n",
    "print(\"{0:ㅋ^20}\".format(\"웃겨\"))"
   ]
  },
  {
   "cell_type": "code",
   "execution_count": 24,
   "id": "7cf79b3b-7f31-41d6-9954-bd5613a4f966",
   "metadata": {},
   "outputs": [
    {
     "name": "stdout",
     "output_type": "stream",
     "text": [
      "              3.1416\n"
     ]
    }
   ],
   "source": [
    "# 소수점 표현하기\n",
    "pi = 3.141592\n",
    "print(\"{0:20.4f}\".format(pi))"
   ]
  },
  {
   "cell_type": "code",
   "execution_count": null,
   "id": "a5f4ca17-7642-4188-8473-d8e754da8e40",
   "metadata": {},
   "outputs": [],
   "source": []
  },
  {
   "cell_type": "markdown",
   "id": "c8130429-cbe4-4c94-9449-14384ab415e0",
   "metadata": {},
   "source": [
    "### f문자열 포매팅"
   ]
  },
  {
   "cell_type": "code",
   "execution_count": 17,
   "id": "0947b9ae-878d-472d-b46c-c72a29f4b120",
   "metadata": {},
   "outputs": [
    {
     "name": "stdout",
     "output_type": "stream",
     "text": [
      "나의 이름은 배트맨입니다. 나이는 30입니다.\n",
      "내년이면 31 살이 됩니다.\n"
     ]
    }
   ],
   "source": [
    " # \"  \".format()\n",
    "name = \"배트맨\"\n",
    "age = 30\n",
    "print(f\"나의 이름은 {name}입니다. 나이는 {age}입니다.\")\n",
    "print(f\"내년이면 {age + 1} 살이 됩니다.\")"
   ]
  },
  {
   "cell_type": "code",
   "execution_count": 22,
   "id": "e4c78422-4fb4-4fbc-a522-791ba6d2da7c",
   "metadata": {},
   "outputs": [
    {
     "name": "stdout",
     "output_type": "stream",
     "text": [
      "나의 이름은 홍길동 입니다. 나이는 male 입니다.\n"
     ]
    }
   ],
   "source": [
    "d = {\"name\":\"홍길동\",\"age\":30,\"gen\":\"male\"}\n",
    "print(f'나의 이름은 {d[\"name\"]} 입니다. 나이는 {d[\"gen\"]} 입니다.')"
   ]
  },
  {
   "cell_type": "markdown",
   "id": "b418cf41-ddab-4cbd-9328-85398f4c14a6",
   "metadata": {},
   "source": [
    "### 문자열 관련 함수들"
   ]
  },
  {
   "cell_type": "code",
   "execution_count": 25,
   "id": "4c9520c9-8020-4bd4-9ac1-55027c40a409",
   "metadata": {},
   "outputs": [
    {
     "data": {
      "text/plain": [
       "2"
      ]
     },
     "execution_count": 25,
     "metadata": {},
     "output_type": "execute_result"
    }
   ],
   "source": [
    "\"hobby\".count('b')"
   ]
  },
  {
   "cell_type": "code",
   "execution_count": 30,
   "id": "8583ee25-1eb9-4cd1-87bb-f2f428d18060",
   "metadata": {},
   "outputs": [
    {
     "name": "stdout",
     "output_type": "stream",
     "text": [
      "41529\n",
      "좋아하는 노래 제목: toxic till the end\n"
     ]
    }
   ],
   "source": [
    "import requests\n",
    "url = 'https://music.apple.com/kr/playlist/%EC%98%A4%EB%8A%98%EC%9D%98-top-100-%EB%8C%80%ED%95%9C%EB%AF%BC%EA%B5%AD/pl.d3d10c32fbc540b38e266367dc8cb00c'\n",
    "res = requests.get(url).text\n",
    "print(res.find('toxic till the end'))\n",
    "# print(res.index('toxic till the end')) # 없으면 오류 발생\n",
    "print('좋아하는 노래 제목:',res[41529:41547])"
   ]
  },
  {
   "cell_type": "code",
   "execution_count": null,
   "id": "e3ada47a-4860-445e-827c-2088d17cb2e4",
   "metadata": {},
   "outputs": [],
   "source": [
    "dir(str)"
   ]
  },
  {
   "cell_type": "code",
   "execution_count": 31,
   "id": "153c339e-5cc7-49ed-9a21-ccf56e096a64",
   "metadata": {},
   "outputs": [
    {
     "name": "stdout",
     "output_type": "stream",
     "text": [
      "a,b,c,d,e,f,g\n"
     ]
    }
   ],
   "source": [
    "# 분자열 삽입 join *\n",
    "print(\",\".join('abcdefg'))"
   ]
  },
  {
   "cell_type": "code",
   "execution_count": 32,
   "id": "bb23aeb3-ac8a-4e73-8687-6712931ebbb7",
   "metadata": {},
   "outputs": [
    {
     "name": "stdout",
     "output_type": "stream",
     "text": [
      "a,b,c,d\n"
     ]
    }
   ],
   "source": [
    "print(','.join(['a','b','c','d']))"
   ]
  },
  {
   "cell_type": "code",
   "execution_count": 33,
   "id": "1a3be628-2138-4f20-8db1-c78e4de5eea0",
   "metadata": {},
   "outputs": [
    {
     "name": "stdout",
     "output_type": "stream",
     "text": [
      "HI\n"
     ]
    }
   ],
   "source": [
    "# 소문자를 대문자로 바꾸기 upper\n",
    "a = 'hi'\n",
    "print(a.upper())"
   ]
  },
  {
   "cell_type": "code",
   "execution_count": 34,
   "id": "22067c8d-a6c7-4bfe-84e3-cf81f7286dfa",
   "metadata": {},
   "outputs": [
    {
     "name": "stdout",
     "output_type": "stream",
     "text": [
      "hi\n"
     ]
    }
   ],
   "source": [
    "# 대문자를 소문자로 바꾸기 lower\n",
    "a = 'HI'\n",
    "print(a.lower())"
   ]
  },
  {
   "cell_type": "code",
   "execution_count": 35,
   "id": "65557228-2340-4564-9c70-9574655b4846",
   "metadata": {},
   "outputs": [
    {
     "name": "stdout",
     "output_type": "stream",
     "text": [
      "Life is egg\n",
      "LIFE IS EGG\n"
     ]
    }
   ],
   "source": [
    "#연습\n",
    "v = 'Life is egg'\n",
    "big = v.upper()\n",
    "print(v)\n",
    "print(big)"
   ]
  },
  {
   "cell_type": "code",
   "execution_count": 36,
   "id": "e9a806ce-9316-43b0-94f4-8f6c5de932f2",
   "metadata": {},
   "outputs": [
    {
     "name": "stdout",
     "output_type": "stream",
     "text": [
      "     hi   \n",
      "hi   \n",
      "     hi\n",
      "hi\n"
     ]
    }
   ],
   "source": [
    "a =\"     hi   \"\n",
    "aa = a.lstrip()\n",
    "bb = a.rstrip()\n",
    "cc = a.strip()\n",
    "print(a)\n",
    "print(aa)\n",
    "print(bb)\n",
    "print(cc)"
   ]
  },
  {
   "cell_type": "code",
   "execution_count": null,
   "id": "e292fd11-b29f-455f-b5f9-5c27bf5929d2",
   "metadata": {},
   "outputs": [],
   "source": [
    "# 문자열 바꾸기"
   ]
  },
  {
   "cell_type": "code",
   "execution_count": 37,
   "id": "945c1581-4a4c-4b8c-b1ff-ae7114a3fcd7",
   "metadata": {},
   "outputs": [
    {
     "name": "stdout",
     "output_type": "stream",
     "text": [
      "[' Life', 'is', 'egg']\n"
     ]
    }
   ],
   "source": [
    "# 문자열 나누기 split *\n",
    "# 문자열을 배열로\n",
    "a = ' Life-is-egg'\n",
    "aa = a.split('-')\n",
    "print(aa)"
   ]
  },
  {
   "cell_type": "code",
   "execution_count": null,
   "id": "11722874-4749-4ba4-b4bb-ad65d3bf3e09",
   "metadata": {},
   "outputs": [],
   "source": [
    "# 연습\n",
    "ex ='abcdefghi'\n",
    "ex2 = ex.split"
   ]
  }
 ],
 "metadata": {
  "kernelspec": {
   "display_name": "Python 3 (ipykernel)",
   "language": "python",
   "name": "python3"
  },
  "language_info": {
   "codemirror_mode": {
    "name": "ipython",
    "version": 3
   },
   "file_extension": ".py",
   "mimetype": "text/x-python",
   "name": "python",
   "nbconvert_exporter": "python",
   "pygments_lexer": "ipython3",
   "version": "3.13.1"
  }
 },
 "nbformat": 4,
 "nbformat_minor": 5
}
