{
 "cells": [
  {
   "cell_type": "markdown",
   "id": "374cd351-df27-44a8-b132-f78812cdf0ab",
   "metadata": {},
   "source": [
    "# 외부 라이브러리"
   ]
  },
  {
   "cell_type": "markdown",
   "id": "e6de1e8c-0138-4313-91d0-d2d615b675f3",
   "metadata": {},
   "source": [
    "## pip"
   ]
  },
  {
   "cell_type": "code",
   "execution_count": null,
   "id": "ab9a884f-6fdc-4d81-8b62-cdada8569c07",
   "metadata": {},
   "outputs": [],
   "source": []
  },
  {
   "cell_type": "code",
   "execution_count": null,
   "id": "b83eb80c-c0f8-42f7-910a-d48afdd07556",
   "metadata": {},
   "outputs": [],
   "source": []
  },
  {
   "cell_type": "markdown",
   "id": "282913af-f9fd-4bca-9fd5-f6ac74263c42",
   "metadata": {},
   "source": [
    "## Faker"
   ]
  },
  {
   "cell_type": "code",
   "execution_count": 5,
   "id": "45897be6-fd62-45cd-b4ae-3a9508953aa7",
   "metadata": {},
   "outputs": [],
   "source": [
    "# !pip install Faker"
   ]
  },
  {
   "cell_type": "code",
   "execution_count": 9,
   "id": "5e8b02dd-41c6-49c5-983a-75de9f8f2161",
   "metadata": {},
   "outputs": [
    {
     "data": {
      "text/plain": [
       "'박미숙'"
      ]
     },
     "execution_count": 9,
     "metadata": {},
     "output_type": "execute_result"
    }
   ],
   "source": [
    "from faker import Faker\n",
    "fake = Faker(\"Ko-KR\")\n",
    "fake.name()"
   ]
  },
  {
   "cell_type": "code",
   "execution_count": 1,
   "id": "9dc6bd38-eb85-4203-b8bb-f7d590b70a40",
   "metadata": {},
   "outputs": [
    {
     "name": "stdout",
     "output_type": "stream",
     "text": [
      "1위: REBEL HEART / IVE (아이브)\n",
      "2위: HOME SWEET HOME (feat. 태양, 대성) / G-DRAGON\n",
      "3위: 나는 반딧불 / 황가람\n",
      "4위: Whiplash / aespa\n",
      "5위: APT. / 로제 (ROSÉ)\n",
      "6위: Drowning / Bruno Mars\n",
      "7위: 오늘만 I LOVE YOU / WOODZ\n",
      "8위: ATTITUDE / BOYNEXTDOOR\n",
      "9위: toxic till the end / IVE (아이브)\n",
      "10위: Dash / 로제 (ROSÉ)\n",
      "11위: POWER / PLAVE\n",
      "12위: HAPPY / G-DRAGON\n",
      "13위: 내게 사랑이 뭐냐고 물어본다면 / DAY6 (데이식스)\n",
      "14위: DRIP / 로이킴\n",
      "15위: RIZZ / BABYMONSTER\n",
      "16위: Chroma Drift / PLAVE\n",
      "17위: 소나기 / PLAVE\n",
      "18위: Island / 이클립스 (ECLIPSE)\n",
      "19위: 너와의 모든 지금 / PLAVE\n",
      "20위: 모르시나요(PROD.로코베리) / 재쓰비 (JAESSBEE)\n",
      " "
     ]
    }
   ],
   "source": [
    "import requests as req\n",
    "from bs4 import BeautifulSoup as bs\n",
    "url = \"https://www.melon.com/chart/index.htm\"\n",
    "headers = {'User-Agent':'Mozilla/5.0 (Windows NT 10.0; Win64; x64) AppleWebKit/537.36 (KHTML, like Gecko) Chrome/133.0.0.0 Safari/537.36 Edg/133.0.0.0'}\n",
    "web = req.get(url, headers = headers)\n",
    "def mel():\n",
    "    soup = bs(web. content, 'html.parser' )\n",
    "    title = soup.select('.rank01') [:20]\n",
    "    name = soup. select('.checkEllipsis a' ) [ :20]\n",
    "    str = ''\n",
    "    for i, (t, n) in enumerate(zip(title, name),1):\n",
    "        str += f'{i}위: {t.text.strip()} / {n.text}\\n'\n",
    "    print(str, end=' ')\n",
    "\n",
    "if __name__ == '__main__':\n",
    "    mel()"
   ]
  },
  {
   "cell_type": "code",
   "execution_count": 14,
   "id": "a7a3ac90-d60b-481d-81ac-3f0435df0726",
   "metadata": {},
   "outputs": [
    {
     "name": "stdout",
     "output_type": "stream",
     "text": [
      "Collecting html5lib\n",
      "  Downloading html5lib-1.1-py2.py3-none-any.whl.metadata (16 kB)\n",
      "Requirement already satisfied: six>=1.9 in c:\\users\\admin\\appdata\\local\\programs\\python\\python313\\lib\\site-packages (from html5lib) (1.17.0)\n",
      "Requirement already satisfied: webencodings in c:\\users\\admin\\appdata\\local\\programs\\python\\python313\\lib\\site-packages (from html5lib) (0.5.1)\n",
      "Downloading html5lib-1.1-py2.py3-none-any.whl (112 kB)\n",
      "Installing collected packages: html5lib\n",
      "Successfully installed html5lib-1.1\n"
     ]
    }
   ],
   "source": [
    "!pip install html5lib"
   ]
  },
  {
   "cell_type": "code",
   "execution_count": null,
   "id": "ef302ade-13b4-4c98-9f0b-36c2a18f42f8",
   "metadata": {},
   "outputs": [],
   "source": [
    "import requests as req\n",
    "from bs4 import BeautifulSoup as bs\n",
    "url = \"https://www.pusan.ac.kr/kor/CMS/MenuMgr/menuListOnBuilding.do?mCode=MN202#childTab_tmp\"\n",
    "headers = {'User-Agent':'Mozilla/5.0 (Windows NT 10.0; Win64; x64) AppleWebKit/537.36 (KHTML, like Gecko) Chrome/133.0.0.0 Safari/537.36 Edg/133.0.0.0'}\n",
    "web = req.get(url, headers = headers)\n",
    "soup = bs(web.content, 'html5lib' )\n"
   ]
  },
  {
   "cell_type": "code",
   "execution_count": 13,
   "id": "3f1182ff-f150-4b69-b91d-0401ac20a0bd",
   "metadata": {},
   "outputs": [
    {
     "name": "stdout",
     "output_type": "stream",
     "text": [
      "OpenSSL 3.0.15 3 Sep 2024\n"
     ]
    }
   ],
   "source": [
    "import ssl\n",
    "print(ssl.OPENSSL_VERSION)"
   ]
  },
  {
   "cell_type": "code",
   "execution_count": null,
   "id": "e5056d16-ca0d-4390-aca7-414af20456da",
   "metadata": {},
   "outputs": [],
   "source": []
  },
  {
   "cell_type": "code",
   "execution_count": null,
   "id": "86c6d96c-0946-412a-914d-5e9eba372265",
   "metadata": {},
   "outputs": [],
   "source": []
  },
  {
   "cell_type": "code",
   "execution_count": null,
   "id": "40733d1e-e2be-43ab-8200-02df55637516",
   "metadata": {},
   "outputs": [],
   "source": []
  }
 ],
 "metadata": {
  "kernelspec": {
   "display_name": "Python 3 (ipykernel)",
   "language": "python",
   "name": "python3"
  },
  "language_info": {
   "codemirror_mode": {
    "name": "ipython",
    "version": 3
   },
   "file_extension": ".py",
   "mimetype": "text/x-python",
   "name": "python",
   "nbconvert_exporter": "python",
   "pygments_lexer": "ipython3",
   "version": "3.13.1"
  }
 },
 "nbformat": 4,
 "nbformat_minor": 5
}
