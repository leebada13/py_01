{
 "cells": [
  {
   "cell_type": "markdown",
   "id": "374cd351-df27-44a8-b132-f78812cdf0ab",
   "metadata": {},
   "source": [
    "# 외부 라이브러리"
   ]
  },
  {
   "cell_type": "markdown",
   "id": "e6de1e8c-0138-4313-91d0-d2d615b675f3",
   "metadata": {},
   "source": [
    "## pip"
   ]
  },
  {
   "cell_type": "code",
   "execution_count": null,
   "id": "ab9a884f-6fdc-4d81-8b62-cdada8569c07",
   "metadata": {},
   "outputs": [],
   "source": []
  },
  {
   "cell_type": "code",
   "execution_count": null,
   "id": "b83eb80c-c0f8-42f7-910a-d48afdd07556",
   "metadata": {},
   "outputs": [],
   "source": []
  },
  {
   "cell_type": "markdown",
   "id": "282913af-f9fd-4bca-9fd5-f6ac74263c42",
   "metadata": {},
   "source": [
    "## Faker"
   ]
  },
  {
   "cell_type": "code",
   "execution_count": 5,
   "id": "45897be6-fd62-45cd-b4ae-3a9508953aa7",
   "metadata": {},
   "outputs": [],
   "source": [
    "# !pip install Faker"
   ]
  },
  {
   "cell_type": "code",
   "execution_count": 9,
   "id": "5e8b02dd-41c6-49c5-983a-75de9f8f2161",
   "metadata": {},
   "outputs": [
    {
     "data": {
      "text/plain": [
       "'박미숙'"
      ]
     },
     "execution_count": 9,
     "metadata": {},
     "output_type": "execute_result"
    }
   ],
   "source": [
    "from faker import Faker\n",
    "fake = Faker(\"Ko-KR\")\n",
    "fake.name()"
   ]
  },
  {
   "cell_type": "code",
   "execution_count": 1,
   "id": "9dc6bd38-eb85-4203-b8bb-f7d590b70a40",
   "metadata": {},
   "outputs": [
    {
     "name": "stdout",
     "output_type": "stream",
     "text": [
      "1위: REBEL HEART / IVE (아이브)\n",
      "2위: HOME SWEET HOME (feat. 태양, 대성) / G-DRAGON\n",
      "3위: 나는 반딧불 / 황가람\n",
      "4위: Whiplash / aespa\n",
      "5위: APT. / 로제 (ROSÉ)\n",
      "6위: Drowning / Bruno Mars\n",
      "7위: 오늘만 I LOVE YOU / WOODZ\n",
      "8위: ATTITUDE / BOYNEXTDOOR\n",
      "9위: toxic till the end / IVE (아이브)\n",
      "10위: Dash / 로제 (ROSÉ)\n",
      "11위: POWER / PLAVE\n",
      "12위: HAPPY / G-DRAGON\n",
      "13위: 내게 사랑이 뭐냐고 물어본다면 / DAY6 (데이식스)\n",
      "14위: DRIP / 로이킴\n",
      "15위: RIZZ / BABYMONSTER\n",
      "16위: Chroma Drift / PLAVE\n",
      "17위: 소나기 / PLAVE\n",
      "18위: Island / 이클립스 (ECLIPSE)\n",
      "19위: 너와의 모든 지금 / PLAVE\n",
      "20위: 모르시나요(PROD.로코베리) / 재쓰비 (JAESSBEE)\n",
      " "
     ]
    }
   ],
   "source": [
    "import requests as req\n",
    "from bs4 import BeautifulSoup as bs\n",
    "url = \"https://www.melon.com/chart/index.htm\"\n",
    "headers = {'User-Agent':'Mozilla/5.0 (Windows NT 10.0; Win64; x64) AppleWebKit/537.36 (KHTML, like Gecko) Chrome/133.0.0.0 Safari/537.36 Edg/133.0.0.0'}\n",
    "web = req.get(url, headers = headers)\n",
    "def mel():\n",
    "    soup = bs(web. content, 'html.parser' )\n",
    "    title = soup.select('.rank01') [:20]\n",
    "    name = soup. select('.checkEllipsis a' ) [ :20]\n",
    "    str = ''\n",
    "    for i, (t, n) in enumerate(zip(title, name),1):\n",
    "        str += f'{i}위: {t.text.strip()} / {n.text}\\n'\n",
    "    print(str, end=' ')\n",
    "\n",
    "if __name__ == '__main__':\n",
    "    mel()"
   ]
  },
  {
   "cell_type": "code",
   "execution_count": 14,
   "id": "a7a3ac90-d60b-481d-81ac-3f0435df0726",
   "metadata": {},
   "outputs": [
    {
     "name": "stdout",
     "output_type": "stream",
     "text": [
      "Collecting html5lib\n",
      "  Downloading html5lib-1.1-py2.py3-none-any.whl.metadata (16 kB)\n",
      "Requirement already satisfied: six>=1.9 in c:\\users\\admin\\appdata\\local\\programs\\python\\python313\\lib\\site-packages (from html5lib) (1.17.0)\n",
      "Requirement already satisfied: webencodings in c:\\users\\admin\\appdata\\local\\programs\\python\\python313\\lib\\site-packages (from html5lib) (0.5.1)\n",
      "Downloading html5lib-1.1-py2.py3-none-any.whl (112 kB)\n",
      "Installing collected packages: html5lib\n",
      "Successfully installed html5lib-1.1\n"
     ]
    }
   ],
   "source": [
    "!pip install html5lib"
   ]
  },
  {
   "cell_type": "code",
   "execution_count": 2,
   "id": "ef302ade-13b4-4c98-9f0b-36c2a18f42f8",
   "metadata": {},
   "outputs": [
    {
     "name": "stdout",
     "output_type": "stream",
     "text": [
      "===============\n",
      "월 2025.02.17\n",
      "---------------\n",
      "정식-5,500원\n",
      "강황밥\n",
      "김치콩나물국\n",
      "돈육바싹불고기\n",
      "모듬잡채\n",
      "멸치새우견과볶음\n",
      "상추겉절이\n",
      "포기김치\n",
      "\n",
      "===============\n",
      "화 2025.02.18\n",
      "---------------\n",
      "정식-5,500원\n",
      "백미밥\n",
      "물만두국\n",
      "순살닭매콤조림\n",
      "쫄면야채무침\n",
      "파래무무침\n",
      "참나물겉절이\n",
      "포기김치\n",
      "\n",
      "===============\n",
      "수 2025.02.19\n",
      "---------------\n",
      "정식-5,500원\n",
      "백미밥\n",
      "모듬어묵국\n",
      "함박스테이크/치즈/소스\n",
      "스파게티/소스\n",
      "치커리유자청샐러드\n",
      "콩나물무침\n",
      "포기김치\n",
      "\n",
      "===============\n",
      "목 2025.02.20\n",
      "---------------\n",
      "정식-5,500원\n",
      "잡곡밥\n",
      "홍합미역국\n",
      "순살치킨/맛초킹소스\n",
      "꼬시레기두부무침\n",
      "잡채어묵조림\n",
      "상추겉절이\n",
      "포기김치\n",
      "\n",
      "===============\n",
      "금 2025.02.21\n",
      "---------------\n",
      "정식-5,500원\n",
      "백미밥\n",
      "국수\n",
      "깐풍기/소스\n",
      "알감자버터구이\n",
      "도토리묵김치무침\n",
      "열무겉절이\n",
      "포기김치\n",
      "\n"
     ]
    }
   ],
   "source": [
    "import requests as req\n",
    "from bs4 import BeautifulSoup as bs\n",
    "url = \"https://www.pusan.ac.kr/kor/CMS/MenuMgr/menuListOnBuilding.do?mCode=MN202#childTab_tmp\"\n",
    "headers = {'User-Agent':'Mozilla/5.0 (Windows NT 10.0; Win64; x64) AppleWebKit/537.36 (KHTML, like Gecko) Chrome/133.0.0.0 Safari/537.36 Edg/133.0.0.0'}\n",
    "web = req.get(url, headers = headers)\n",
    "soup = bs(web.content, 'html5lib' )\n",
    "menucard = soup. select('.menu-tbl')\n",
    "won = soup. select('.menu-tit01')\n",
    "menu = soup.select('h3.menu-tit01+p')\n",
    "day = soup. select ('.day')\n",
    "date = soup. select('.date')\n",
    "# print(day, date)\n",
    "for d, dd, w, m in zip(day, date, won, menu):\n",
    "    print('='*15)\n",
    "    print(d.text, dd.text)\n",
    "    print('-'*15)\n",
    "    print(w.text+'\\n'+ m.text)"
   ]
  },
  {
   "cell_type": "code",
   "execution_count": 3,
   "id": "3f1182ff-f150-4b69-b91d-0401ac20a0bd",
   "metadata": {},
   "outputs": [
    {
     "name": "stdout",
     "output_type": "stream",
     "text": [
      "OpenSSL 3.0.15 3 Sep 2024\n"
     ]
    }
   ],
   "source": [
    "import ssl\n",
    "print(ssl.OPENSSL_VERSION)"
   ]
  },
  {
   "cell_type": "code",
   "execution_count": 8,
   "id": "e5056d16-ca0d-4390-aca7-414af20456da",
   "metadata": {},
   "outputs": [
    {
     "name": "stdout",
     "output_type": "stream",
     "text": [
      "1위 REBEL HEART / IVE (아이브)\n",
      "2위 나는 반딧불 / 황가람\n",
      "3위 HOME SWEET HOME (Feat. 태양 & 대성) / G-DRAGON\n",
      "4위 Whiplash / aespa\n",
      "5위 APT. / 로제 (ROSÉ) & Bruno Mars\n",
      "6위 Drowning / WOODZ\n",
      "7위 ATTITUDE / IVE (아이브)\n",
      "8위 모르시나요 (Prod. by 로코베리) / 조째즈\n",
      "9위 HAPPY / DAY6 (데이식스)\n",
      "10위 내게 사랑이 뭐냐고 물어본다면 / 로이킴\n",
      "11위 toxic till the end / 로제 (ROSÉ)\n",
      "12위 POWER / G-DRAGON\n",
      "13위 내 이름 맑음 / QWER\n",
      "14위 Welcome to the Show / DAY6 (데이식스)\n",
      "15위 한 페이지가 될 수 있게 / DAY6 (데이식스)\n",
      "16위 소나기 / 이클립스 (ECLIPSE)\n",
      "17위 Supernova / aespa\n",
      "18위 너와의 모든 지금 / 재쓰비 (JAESSBEE)\n",
      "19위 오늘만 I LOVE YOU / BOYNEXTDOOR\n",
      "20위 고민중독 / QWER\n",
      "21위 예뻤어 / DAY6 (데이식스)\n",
      "22위 슬픈 초대장 / 순순희 (지환)\n",
      "23위 천상연 / 이창섭\n",
      "24위 UP (KARINA Solo) / aespa\n",
      "25위 DRIP / BABYMONSTER\n",
      "26위 사랑은 늘 도망가 / 임영웅\n",
      "27위 Die With A Smile / Lady Gaga & Bruno Mars\n",
      "28위 에피소드 / 이무진\n",
      "29위 나는 아픈 건 딱 질색이니까 / (여자)아이들\n",
      "30위 How Sweet / NewJeans\n",
      "31위 비의 랩소디 / 임재현\n",
      "32위 Mantra / 제니 (JENNIE)\n",
      "33위 Love wins all / 아이유 (IU)\n",
      "34위 어떻게 이별까지 사랑하겠어, 널 사랑하는 거지 / AKMU (악뮤)\n",
      "35위 첫 만남은 계획대로 되지 않아 / TWS (투어스)\n",
      "36위 봄여름가을겨울 (Still Life) / BIGBANG (빅뱅)\n",
      "37위 미치게 그리워서 / 황가람\n",
      "38위 청춘만화 / 이무진\n",
      "39위 Small girl (Feat. 도경수 (D.O.)) / 이영지\n",
      "40위 I AM / IVE (아이브)\n",
      "41위 헤어지자 말해요 / 박재정\n",
      "42위 Magnetic / 아일릿 (ILLIT)\n",
      "43위 이제 나만 믿어요 / 임영웅\n",
      "44위 심 (心) / DK (디셈버)\n",
      "45위 Storm / 김보경 (NEON)\n",
      "46위 해야 (HEYA) / IVE (아이브)\n",
      "47위 다정히 내 이름을 부르면 / 경서예지 & 전건호\n",
      "48위 클락션 (Klaxon) / (여자)아이들\n",
      "49위 너의 모든 순간 / 성시경\n",
      "50위 우리들의 블루스 / 임영웅\n"
     ]
    }
   ],
   "source": [
    "import requests as req\n",
    "from bs4 import BeautifulSoup as bs\n",
    "url = \"https://www.genie.co.kr/chart/top200\"\n",
    "headers = {'User-Agent':'Mozilla/5.0 (Windows NT 10.0; Win64; x64) AppleWebKit/537.36 (KHTML, like Gecko) Chrome/133.0.0.0 Safari/537.36 Edg/133.0.0.0'}\n",
    "web = req.get(url, headers = headers)\n",
    "soup = bs(web.content, 'html.parser')\n",
    "title = soup.select('.info .title')\n",
    "artist = soup.select('.info .artist')\n",
    "for i, (t, a) in enumerate (zip(title, artist),1):\n",
    "    print(f\"{i}위 {t.text.strip()} / {a.text.strip()}\")"
   ]
  },
  {
   "cell_type": "code",
   "execution_count": 24,
   "id": "99b73beb-8582-4bce-94d7-76c051ab37d5",
   "metadata": {},
   "outputs": [
    {
     "name": "stdout",
     "output_type": "stream",
     "text": [
      "Requirement already satisfied: python-telegram-bot in c:\\users\\admin\\appdata\\local\\programs\\python\\python313\\lib\\site-packages (21.10)\n",
      "Requirement already satisfied: httpx~=0.27 in c:\\users\\admin\\appdata\\local\\programs\\python\\python313\\lib\\site-packages (from python-telegram-bot) (0.28.1)\n",
      "Requirement already satisfied: anyio in c:\\users\\admin\\appdata\\local\\programs\\python\\python313\\lib\\site-packages (from httpx~=0.27->python-telegram-bot) (4.8.0)\n",
      "Requirement already satisfied: certifi in c:\\users\\admin\\appdata\\local\\programs\\python\\python313\\lib\\site-packages (from httpx~=0.27->python-telegram-bot) (2025.1.31)\n",
      "Requirement already satisfied: httpcore==1.* in c:\\users\\admin\\appdata\\local\\programs\\python\\python313\\lib\\site-packages (from httpx~=0.27->python-telegram-bot) (1.0.7)\n",
      "Requirement already satisfied: idna in c:\\users\\admin\\appdata\\local\\programs\\python\\python313\\lib\\site-packages (from httpx~=0.27->python-telegram-bot) (3.10)\n",
      "Requirement already satisfied: h11<0.15,>=0.13 in c:\\users\\admin\\appdata\\local\\programs\\python\\python313\\lib\\site-packages (from httpcore==1.*->httpx~=0.27->python-telegram-bot) (0.14.0)\n",
      "Requirement already satisfied: sniffio>=1.1 in c:\\users\\admin\\appdata\\local\\programs\\python\\python313\\lib\\site-packages (from anyio->httpx~=0.27->python-telegram-bot) (1.3.1)\n"
     ]
    }
   ],
   "source": [
    "!pip install python-telegram-bot"
   ]
  },
  {
   "cell_type": "code",
   "execution_count": null,
   "id": "0806dcec-bd13-4fa1-ae86-0d9458296807",
   "metadata": {},
   "outputs": [],
   "source": [
    "import asyncio\n",
    "import nest_asyncio\n",
    "from dotenv import load_dotenv\n",
    "import os\n",
    "\n",
    "load_dotenv()\n",
    "\n",
    "from telegram import Update\n",
    "from telegram.ext import Application, CommandHandler, MessageHandler, filters, CallbackContext\n",
    "nest_asyncio.apply()\n",
    "\n",
    "TELEGRAM_TOKEN =os.getenv(\"TELEGRAM_TOKEN\")\n",
    "\n",
    "async def start( update, context):\n",
    "    await context.bot.send_message(chat_id=update.effective_chat.id, text=\"봇이 가동되었습니다!\")\n",
    "\n",
    "async def handle_message(update , context ):\n",
    "    user_message = update.message.text.lower()  # Text -> text\n",
    "\n",
    "    if \"선생님\" in user_message:\n",
    "        response = \"수업열심히 해봅시다!\"\n",
    "    elif \"날씨\" in user_message:\n",
    "        response = \"오늘은 추워요~~\"\n",
    "    elif \"안녕\" in user_message:\n",
    "        response = \"웅웅\"\n",
    "    print(response)\n",
    "\n",
    "    #응답 메세지 전송\n",
    "    await context.bot.send_message(chat_id=update.effective_chat.id, text=response)\n",
    "\n",
    "async def main():\n",
    "    application = Application.builder().token(TELEGRAM_TOKEN).build()\n",
    "    await application.initialize() # 초기화 필수\n",
    "\n",
    "    # 핸들러 추가\n",
    "    application.add_handler(CommandHandler(\"start\", start))\n",
    "    application.add_handler(MessageHandler(filters.TEXT & ~filters.COMMAND, handle_message))\n",
    "    \n",
    "    await application.start()\n",
    "    print(\"봇이 실행중 입니다.\")\n",
    "\n",
    "    await application.updater.start_polling()\n",
    "\n",
    "if __name__ == \"__main__\":\n",
    "    asyncio.run(main())"
   ]
  },
  {
   "cell_type": "code",
   "execution_count": null,
   "id": "39f19c74-2e53-4553-aaff-3e70aac4f902",
   "metadata": {},
   "outputs": [],
   "source": []
  },
  {
   "cell_type": "code",
   "execution_count": 23,
   "id": "82abc93a-7c60-4fe7-97c6-6e13939116e6",
   "metadata": {},
   "outputs": [
    {
     "name": "stdout",
     "output_type": "stream",
     "text": [
      "□  (종합) 대기 매우 건조, 기온 낮아 춥겠음, 강풍 및 풍랑 유의\n",
      "○  (오늘, 21일) 구름많다가 오후에 맑아짐\n",
      "○  (내일, 22일) 대체로 맑음\n",
      "○  (모레, 23일) 대체로 맑겠으나, 경남서부내륙 가끔 구름많음\n",
      "○  (글피, 24일) 대체로 맑음\n"
     ]
    }
   ],
   "source": [
    "import requests as req\n",
    "from bs4 import BeautifulSoup as bs\n",
    "url = \"https://www.weather.go.kr/w/weather/forecast/short-term.do?stnId=159\"\n",
    "web = req.get(url)\n",
    "soup = bs(web.content,'html.parser')\n",
    "summary = soup.select('p.summary')\n",
    "for s in summary:\n",
    "    print(s.text.replace('○','\\n○'))"
   ]
  },
  {
   "cell_type": "code",
   "execution_count": 30,
   "id": "af90913a-5df8-4257-a02b-2a0b36a8c4b3",
   "metadata": {},
   "outputs": [
    {
     "name": "stdout",
     "output_type": "stream",
     "text": [
      "('예보요소', ' : 최고기온 / 최저기온')\n",
      "평년(오늘) : -5.1 ~ 2.1 / 9.0 ~ 11.7\n",
      "어제(20일) : -9.7 ~ -2.0 / 4.4 ~ 8.8\n",
      "오늘(21일) : - / 3 ~ 7\n",
      "내일(22일) : -7 ~ -3 / 4 ~ 7\n",
      "모레(23일) : -8 ~ -3 / 1 ~ 5\n",
      "글피(24일) : -9 ~ -4 / 5 ~ 8\n"
     ]
    }
   ],
   "source": [
    "table = soup.select('.table-col') [0]\n",
    "data = table.select('tr')\n",
    "header = data[0].select('th')\n",
    "line1 = ['최고기온'] + data[1].select('td')\n",
    "line2 = ['최저기온'] + data[2].select('td')\n",
    "raw_data=[]\n",
    "for h, l1, l2, in zip(header, line1, line2):\n",
    "    try:\n",
    "        out = h.text + ' : ' + l1.text + ' / ' + l2.text\n",
    "    except:\n",
    "        out = h.text,' : ' + l1 + ' / ' + l2\n",
    "    finally:\n",
    "        print(out)\n",
    "        raw_data.append(out)"
   ]
  },
  {
   "cell_type": "code",
   "execution_count": 28,
   "id": "b387b788-949b-4d8b-bb64-f36a81bb6039",
   "metadata": {},
   "outputs": [],
   "source": [
    "# !pip install pandas"
   ]
  },
  {
   "cell_type": "code",
   "execution_count": 42,
   "id": "88464c54-5afc-4784-b380-3f63101a0535",
   "metadata": {},
   "outputs": [],
   "source": [
    "import pandas as pd\n",
    "parsed_data=[]\n",
    "for entry in raw_data[1:]:\n",
    "    date, temps = entry.split(':')\n",
    "    low_temp , high_temp = temps.split('/')\n",
    "    parsed_data.append([date.strip(),low_temp.strip(),high_temp.strip()])\n",
    "#데이터프레임 생성\n",
    "df = pd.DataFrame(parsed_data,columns=[\"날짜\",\"최저기온\",\"최고기온\"])\n",
    "# df.to_csv('weather_x.csv',index=False,encoding='utf-8')\n",
    "df.to_csv('weather_x.csv',index=False,encoding='utf-8')"
   ]
  },
  {
   "cell_type": "code",
   "execution_count": null,
   "id": "e1c628b6-a136-42b7-9c80-af7765861b2f",
   "metadata": {},
   "outputs": [],
   "source": []
  },
  {
   "cell_type": "code",
   "execution_count": null,
   "id": "b6cdd7b6-5797-4301-ad41-431bd536f10c",
   "metadata": {},
   "outputs": [],
   "source": []
  }
 ],
 "metadata": {
  "kernelspec": {
   "display_name": "Python 3 (ipykernel)",
   "language": "python",
   "name": "python3"
  },
  "language_info": {
   "codemirror_mode": {
    "name": "ipython",
    "version": 3
   },
   "file_extension": ".py",
   "mimetype": "text/x-python",
   "name": "python",
   "nbconvert_exporter": "python",
   "pygments_lexer": "ipython3",
   "version": "3.13.1"
  }
 },
 "nbformat": 4,
 "nbformat_minor": 5
}
