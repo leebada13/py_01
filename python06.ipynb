{
 "cells": [
  {
   "cell_type": "markdown",
   "id": "6056d76a-a93b-40a1-9491-39bd5a35acc0",
   "metadata": {},
   "source": [
    "# 모듈"
   ]
  },
  {
   "cell_type": "markdown",
   "id": "b5b030e9-ab77-4108-9ed4-68b6c303ea88",
   "metadata": {},
   "source": [
    "## 모듈만들기"
   ]
  },
  {
   "cell_type": "code",
   "execution_count": 5,
   "id": "0f81169b-91c6-4849-818d-bc1297315499",
   "metadata": {},
   "outputs": [
    {
     "name": "stdout",
     "output_type": "stream",
     "text": [
      "33\n",
      "11\n"
     ]
    }
   ],
   "source": [
    "import mod1\n",
    "print(mod1.add(11,22))\n",
    "print(mod1.sub(33,22))"
   ]
  },
  {
   "cell_type": "code",
   "execution_count": 4,
   "id": "63d73bed-e32b-4074-912e-81cac0885452",
   "metadata": {},
   "outputs": [],
   "source": [
    "with open(\"mod2.py\",\"w\") as f:\n",
    "    data=\"\"\"def mul(a,b):\n",
    "    return a*b\n",
    "def div(a,b):\n",
    "    return a/b\"\"\"\n",
    "    f.write(data)"
   ]
  },
  {
   "cell_type": "code",
   "execution_count": 3,
   "id": "34c40712-6b93-4cfb-92d7-28b68ddc04f0",
   "metadata": {},
   "outputs": [
    {
     "ename": "SyntaxError",
     "evalue": "unmatched ')' (3865339221.py, line 3)",
     "output_type": "error",
     "traceback": [
      "\u001b[1;36m  Cell \u001b[1;32mIn[3], line 3\u001b[1;36m\u001b[0m\n\u001b[1;33m    1) 기본\u001b[0m\n\u001b[1;37m     ^\u001b[0m\n\u001b[1;31mSyntaxError\u001b[0m\u001b[1;31m:\u001b[0m unmatched ')'\n"
     ]
    }
   ],
   "source": [
    "[삼성전자의 현 시세 55000]\n",
    "\n",
    "1) 기본\n",
    "cmd 에서 파일로 실행했을 때 (python sam.py)\n",
    "삼성전자의 시세가 나오고\n",
    "임포트 했을 땐\n",
    "아무것도 나오지 않게 하라.\n",
    "\n",
    "2) 도전\n",
    "python sam.py '기아'  <-- 인자로 받기\n",
    "기아에 대해 나오기\n",
    "대신 임포트 했을 땐\n",
    "아무것도 나오지 않게 하라.\n",
    "단, 사용을 할땐 해당 시세를 출력할 수 있어야 한다."
   ]
  },
  {
   "cell_type": "code",
   "execution_count": null,
   "id": "e014b68a-6fc9-4500-9372-a4c910177287",
   "metadata": {},
   "outputs": [],
   "source": [
    "import requests as req\n",
    "url = \"https://finance.naver.com/sise/sise_market_sum.naver\"\n",
    "web = req.get(url)\n",
    "html = web.text\n",
    "\n",
    "def sam(jong = '삼성전자'):\n",
    "    f1=html.find(jong)\n",
    "    return(f'{jong}: ' + html[f1:f1+100][19:50].replace('<td class=\"number\">',\"\").replace('</td>',\"\").replace('\\n',\"\")+\"\")\n",
    "\n",
    "if __name__ == ' __main__ ':\n",
    "    print(sam())"
   ]
  },
  {
   "cell_type": "markdown",
   "id": "af4c9f65-7228-4aac-af19-ceef8fed7735",
   "metadata": {},
   "source": [
    "## 클래스나 변수등을 표현한 모듈"
   ]
  },
  {
   "cell_type": "code",
   "execution_count": null,
   "id": "f9f75fc5-a58b-4a73-a33a-40a01faa82b9",
   "metadata": {},
   "outputs": [],
   "source": [
    "with open(\"mod3.py\",\"w\") as f:\n",
    "text = \"\"\"PI = 3.141592\\n\\nclass Math:\\n\\tdef solv(self,r):\\n\\t\\treturn PI * (r ** 2)\\n\\ndef add(a,b):\\n\\treturn a+b\n",
    "f.write(text)"
   ]
  },
  {
   "cell_type": "code",
   "execution_count": null,
   "id": "256edd59-826b-49fa-a447-30755a0245a4",
   "metadata": {},
   "outputs": [],
   "source": [
    "import mod3\n",
    "# 변수\n",
    "print(mod3.PI)\n",
    "# 클레스\n",
    "a = mod3.Math()\n",
    "print(a.solv(10))\n",
    "# 함수\n",
    "print(mod3.add(mod3.PI, 4.4))"
   ]
  },
  {
   "cell_type": "markdown",
   "id": "715f3716-bed0-4871-b57b-1655c9098731",
   "metadata": {},
   "source": [
    "## 다른 파일에서 모듈 불러오기"
   ]
  },
  {
   "cell_type": "code",
   "execution_count": null,
   "id": "b6a927f1-6f08-42db-9fef-003d4745e383",
   "metadata": {},
   "outputs": [],
   "source": []
  },
  {
   "cell_type": "markdown",
   "id": "4b5340b1-1ac5-40df-ac56-497a9bc7bfcd",
   "metadata": {},
   "source": [
    "## 다른 디렉터리에 있는 모듈 불러오는 방법"
   ]
  },
  {
   "cell_type": "code",
   "execution_count": null,
   "id": "5049c820-8134-42e7-b01f-e3e9793946f8",
   "metadata": {},
   "outputs": [],
   "source": []
  },
  {
   "cell_type": "code",
   "execution_count": null,
   "id": "749cc463-e4f8-4183-9ac2-0a2df49257af",
   "metadata": {},
   "outputs": [],
   "source": []
  },
  {
   "cell_type": "markdown",
   "id": "3977a7fb-52f3-4097-98bf-ba98724e58c6",
   "metadata": {},
   "source": []
  },
  {
   "cell_type": "code",
   "execution_count": null,
   "id": "dca9f68b-cad3-47a7-8cc2-8ef558c9c0dc",
   "metadata": {},
   "outputs": [],
   "source": [
    "!python.exe -m pip install --upgrade pip\n",
    "!pip install python-dotenv"
   ]
  },
  {
   "cell_type": "code",
   "execution_count": null,
   "id": "6ec1fd3e-2b3d-4ce2-b2e8-0110fcfbdc01",
   "metadata": {},
   "outputs": [],
   "source": [
    "from dotenv import load_dotenv\n",
    "import os\n",
    "\n",
    "# .env 파일 로드\n",
    "load_dotenv()\n",
    "\n",
    "SECRET_KEY = os.getenv(\"SECRET_KEY\")\n",
    "print(SECRET_KEY)\n",
    "DBUG = os.getenv(\"DBUG\")\n",
    "print(DBUG)\n",
    "TEST = os.getenv(\"TEST\")\n",
    "print(TEST)"
   ]
  },
  {
   "cell_type": "code",
   "execution_count": null,
   "id": "bb6e9936-3b4b-4260-a8e0-4d7d6e559683",
   "metadata": {},
   "outputs": [],
   "source": [
    "# 네이버 검색 API 예제 - 블로그 검색\n",
    "import os\n",
    "import sys\n",
    "import urllib.request\n",
    "from dotenv import load_dotenv\n",
    "import json\n",
    "\n",
    "load_dotenv()\n",
    "client_id = os.environ.get(\"MY_ID\")\n",
    "client_secret = os.environ.get(\"MY_SECRET\")\n",
    "\n",
    "encText = urllib.parse.quote(\"속보\")\n",
    "url = \"https://openapi.naver.com/v1/search/news.json?query=\" + encText + '&display=5&start=1&sort=sim' # JSON 결과\n",
    "# url = \"https://openapi.naver.com/v1/search/blog.xml?query=\" + encText # XML 결과\n",
    "request = urllib.request.Request(url)\n",
    "request.add_header(\"X-Naver-Client-Id\",client_id)\n",
    "request.add_header(\"X-Naver-Client-Secret\",client_secret)\n",
    "response = urllib.request.urlopen(request)\n",
    "rescode = response.getcode()\n",
    "if(rescode==200):\n",
    "    response_body = response.read()\n",
    "    result = response_body.decode('utf-8')\n",
    "    data = json.loads(result)\n",
    "    ldata = data['items']\n",
    "    for n in ldata:\n",
    "        print(n['title'].replace('<b>','').replace('</b>',''))\n",
    "        print(n['description'])\n",
    "        print(n['originallink'])\n",
    "else:\n",
    "    print(\"Error Code:\" + rescode)"
   ]
  },
  {
   "cell_type": "code",
   "execution_count": null,
   "id": "422d55d6-9991-443e-bf90-e28032740c69",
   "metadata": {},
   "outputs": [],
   "source": []
  },
  {
   "cell_type": "code",
   "execution_count": null,
   "id": "9f77aac1-46a6-485e-84f0-394b7b099b02",
   "metadata": {},
   "outputs": [],
   "source": [
    "# 문제 1번\n",
    "name = \"우영우\"\n",
    "reverse_name = ''\n",
    "\n",
    "for c in name:\n",
    "    reverse_name = c + reverse_name\n",
    "\n",
    "print(f'name    : {name}')\n",
    "print(f'reverse : {reverse_name}')\n",
    "name = \"인도인\"\n",
    "reverse_name = ''\n",
    "\n",
    "for c in name:\n",
    "    reverse_name = c + reverse_name\n",
    "\n",
    "print(f'name    : {name}')\n",
    "print(f'reverse : {reverse_name}')\n",
    "name = \"파이썬\"\n",
    "reverse_name = ''\n",
    "\n",
    "for c in name:\n",
    "    reverse_name = c + reverse_name\n",
    "\n",
    "print(f'name    : {name}')\n",
    "print(f'reverse : {reverse_name}')"
   ]
  },
  {
   "cell_type": "code",
   "execution_count": null,
   "id": "37d8f8ab-e404-435b-97e2-339e346f8606",
   "metadata": {},
   "outputs": [],
   "source": [
    "# 문제 2번\n",
    "lst = [1,2,3,4,5,6,7,8,9,10,11,12,13,14,15]\n",
    "\n",
    "even = []\n",
    "odd = []\n",
    "\n",
    "i = 0\n",
    "while i < len(lst):\n",
    "  if lst[i] % 2 == 0:\n",
    "    even.append(lst[i])\n",
    "  else:\n",
    "    odd.append(lst[i])        \n",
    "  i += 1  \n",
    "print(even)\n",
    "print(odd)"
   ]
  },
  {
   "cell_type": "code",
   "execution_count": null,
   "id": "f3500ade-d317-4a4e-a4e7-ca06efdde105",
   "metadata": {},
   "outputs": [],
   "source": [
    "# 문제 3번\n",
    "def longest_word(sentence):\n",
    "    words = sentence\n",
    "    return max(words, key=len)\n",
    "\n",
    "text = \"kiwi\",\"apple\",\"banana\",\"watermelon\",\"tofu\",\"beef\",\"salmon\"\n",
    "print(\"Longest word:\", longest_word(text))"
   ]
  },
  {
   "cell_type": "code",
   "execution_count": null,
   "id": "67db5a36-5400-48a9-be5e-b9f83bdd16c2",
   "metadata": {},
   "outputs": [],
   "source": [
    "!pip install qrcode"
   ]
  },
  {
   "cell_type": "code",
   "execution_count": null,
   "id": "23adfa36-1dce-4ee7-ab39-73976c180c1a",
   "metadata": {},
   "outputs": [],
   "source": [
    "import qrcode\n",
    "\n",
    "def qrcode_maker(text, filename='qr.png'):\n",
    "    qr = qrcode.make(text)\n",
    "    qr.save(filename)\n",
    "\n",
    "qrcode_maker('안녕하세요. 누구입니다 !! ^^')\n",
    "# qrcode_maker('www.naver.com','naver.png')"
   ]
  },
  {
   "cell_type": "code",
   "execution_count": null,
   "id": "a51028f0-778c-44eb-8910-6afd2cd8ccca",
   "metadata": {},
   "outputs": [],
   "source": [
    "from IPython.display import display , HTML\n",
    "from PIL import Image\n",
    "\n",
    "image_path = \"qr.png\"\n",
    "img = Image.open(image_path)\n",
    "htmlcode = '<img src=\"qr.png\" width=100>'\n",
    "display(HTML(htmlcode))\n",
    "# display(img)"
   ]
  },
  {
   "cell_type": "code",
   "execution_count": null,
   "id": "4a825b2e-a5c5-499f-92d4-8d19f6b8ffef",
   "metadata": {},
   "outputs": [],
   "source": [
    "# 문제 4번\n",
    "positive_words = [\"좋아\",\"행복\",\"멋져\",\"최고\",\"사랑해\"]\n",
    "negative_words = [\"싫어\",\"화나\",\"짜증\",\"별로\",\"나빠\"]\n",
    "\n",
    "say = input(\"하고싶은 말을 적으세요.\")\n",
    "\n",
    "main_string = \"기분이 좋아\"\n",
    "positive_words_string1 = \"좋아\",\"행복\",\"멋져\",\"최고\",\"사랑해\"\n",
    "negative_words_string2 = \"싫어\",\"화나\",\"짜증\",\"별로\",\"나빠\"\n",
    "\n",
    "if \"positive_words__string1\" in main_string:\n",
    "    print(\"기분이 좋아보이네요.\")\n",
    "if \"negative_words_string2\" in main_string:\n",
    "    print(\"기분이 나빠보이네요.\")  \n",
    "else:\n",
    "    print(\"평범한 하루네요.\")"
   ]
  },
  {
   "cell_type": "code",
   "execution_count": null,
   "id": "3f3de863-b469-4486-8b44-622ec7af849a",
   "metadata": {},
   "outputs": [],
   "source": [
    "# 문제 5번\n",
    "# ex 1\n",
    "str ='apples are delicious'\n",
    "str = str.title()+('.')\n",
    "print(str)\n",
    "\n",
    "# ex 2\n",
    "if __name__ == '__main__':\n",
    " \n",
    "    s = 'apples are delicious'\n",
    " \n",
    "    s = s.title()+('.')\n",
    "    print(s)"
   ]
  },
  {
   "cell_type": "markdown",
   "id": "9c69f9c3-b89f-4580-92f2-e3420f0f48c1",
   "metadata": {},
   "source": [
    "# 패키지"
   ]
  },
  {
   "cell_type": "markdown",
   "id": "f6afb62d-fdf8-4b07-ab9c-2034cef1c49e",
   "metadata": {},
   "source": [
    "## 패키지 만들기"
   ]
  },
  {
   "cell_type": "code",
   "execution_count": 4,
   "id": "874e86de-ca58-4df2-8cd5-3b2d75393925",
   "metadata": {},
   "outputs": [],
   "source": [
    "# %%cmd\n",
    "# set PYTHONPATH = D:\\bd\\code\\game"
   ]
  },
  {
   "cell_type": "code",
   "execution_count": 5,
   "id": "dfc78107-3c6c-42e8-b376-36ab54c5420e",
   "metadata": {},
   "outputs": [
    {
     "name": "stdout",
     "output_type": "stream",
     "text": [
      "echo\n",
      "랜더링\n"
     ]
    }
   ],
   "source": [
    "# 테스트 1번 명시적이다. 그렇지만 길다.\n",
    "import game.sound.echo\n",
    "import game.graphic.render\n",
    "game.sound.echo.echo_test()\n",
    "game.graphic.render.render_test()"
   ]
  },
  {
   "cell_type": "code",
   "execution_count": 7,
   "id": "3cc74415-efec-4dea-b845-f7c521038673",
   "metadata": {},
   "outputs": [
    {
     "ename": "SyntaxError",
     "evalue": "invalid syntax (3467628858.py, line 3)",
     "output_type": "error",
     "traceback": [
      "\u001b[1;36m  Cell \u001b[1;32mIn[7], line 3\u001b[1;36m\u001b[0m\n\u001b[1;33m    from game.echo importIecho_test as e\u001b[0m\n\u001b[1;37m                   ^\u001b[0m\n\u001b[1;31mSyntaxError\u001b[0m\u001b[1;31m:\u001b[0m invalid syntax\n"
     ]
    }
   ],
   "source": [
    "# 짧지만 중복의 위험이 있다. 그리고 명시지\n",
    "from game.echo_v import echo_test as ev\n",
    "from game.echo importIecho_test as e\n",
    "ev()\n",
    "e()"
   ]
  },
  {
   "cell_type": "code",
   "execution_count": 8,
   "id": "2c54692c-d24a-4499-ad15-2af4f228fab7",
   "metadata": {},
   "outputs": [
    {
     "name": "stdout",
     "output_type": "stream",
     "text": [
      "3.6\n",
      "The version of this sound of game is 3.6\n"
     ]
    }
   ],
   "source": [
    "# __init__.py 를 사용하기\n",
    "import game\n",
    "print (game.VERSION)\n",
    "game.print_version_info()"
   ]
  },
  {
   "cell_type": "code",
   "execution_count": 9,
   "id": "e95a321b-0d55-403c-a262-9084351b6c2b",
   "metadata": {},
   "outputs": [],
   "source": [
    "# __init__.py 은 한번만 로드됨\n",
    "import game"
   ]
  },
  {
   "cell_type": "code",
   "execution_count": 10,
   "id": "fa6ed192-8224-4302-b19e-065098c12e8f",
   "metadata": {},
   "outputs": [
    {
     "name": "stdout",
     "output_type": "stream",
     "text": [
      "랜더링\n"
     ]
    }
   ],
   "source": [
    "# __init__.py 는 패키지내에 내 모듈을 미리 import 할 수 있다.\n",
    "game.render_test()"
   ]
  },
  {
   "cell_type": "code",
   "execution_count": 4,
   "id": "e4ea2a2e-04ef-4990-9885-3fe876522021",
   "metadata": {},
   "outputs": [],
   "source": [
    "import game.graphic"
   ]
  },
  {
   "cell_type": "code",
   "execution_count": 11,
   "id": "3b5a0732-fa8b-4ff5-a977-87968ad14073",
   "metadata": {},
   "outputs": [
    {
     "name": "stdout",
     "output_type": "stream",
     "text": [
      "The version of this sound of game is 3.7\n"
     ]
    }
   ],
   "source": [
    "game.graphic.print_version_info()"
   ]
  },
  {
   "cell_type": "code",
   "execution_count": 1,
   "id": "e90d1907-0cc4-4627-b3ce-8d0c7ccb76e6",
   "metadata": {},
   "outputs": [
    {
     "name": "stdout",
     "output_type": "stream",
     "text": [
      "Initializing Game...\n"
     ]
    }
   ],
   "source": [
    "# __all__ 사용하기\n",
    "from game.graphic import *"
   ]
  },
  {
   "cell_type": "code",
   "execution_count": 2,
   "id": "e3d17cd5-5690-4357-a7cb-517277eca574",
   "metadata": {},
   "outputs": [
    {
     "name": "stdout",
     "output_type": "stream",
     "text": [
      "비디오에코\n"
     ]
    }
   ],
   "source": [
    "echo.echo_test()"
   ]
  },
  {
   "cell_type": "code",
   "execution_count": 1,
   "id": "b9056645-5e10-4fb5-abf6-02073d9837a6",
   "metadata": {},
   "outputs": [
    {
     "name": "stdout",
     "output_type": "stream",
     "text": [
      "Initializing Game...\n"
     ]
    }
   ],
   "source": [
    "# relative 패키지\n",
    "from game.graphic.render import render_test"
   ]
  },
  {
   "cell_type": "code",
   "execution_count": 3,
   "id": "af2e7969-41a5-4531-a349-a3cc814e1e4a",
   "metadata": {},
   "outputs": [
    {
     "name": "stdout",
     "output_type": "stream",
     "text": [
      "랜더링\n"
     ]
    }
   ],
   "source": [
    "# 비디오에코가 아닌 사운드에코 호출\n",
    "render_test()"
   ]
  },
  {
   "cell_type": "markdown",
   "id": "ea29b81d-4a47-43ef-829d-7b5482c9dbed",
   "metadata": {},
   "source": [
    "# 예외처리"
   ]
  },
  {
   "cell_type": "markdown",
   "id": "ca7a11c4-1fe3-4882-a582-473f084e6273",
   "metadata": {},
   "source": [
    "## 오류발생\n",
    "- 오타\n",
    "- 존재 하지않는 파일을 지정 또는 사용\n",
    "- 문법 오류\n",
    "- 수학적 오류\n",
    "- 인덱스 오류\n",
    "## 오류 예외 처리 기법\n",
    "- try-except 문\n",
    "- ry-finally 문\n",
    "- 여러개의 오류 처리\n",
    "- try-else 문"
   ]
  },
  {
   "cell_type": "code",
   "execution_count": 8,
   "id": "81784676-f212-4b4a-8cb5-3db805a45a76",
   "metadata": {},
   "outputs": [],
   "source": [
    "# f = open('뜬금파일','r')\n",
    "# filenotfounderror: [errno 2] No such file or directory: '뜬금파일'"
   ]
  },
  {
   "cell_type": "code",
   "execution_count": 9,
   "id": "e814719b-2572-4003-b9a6-6b911312c5c6",
   "metadata": {},
   "outputs": [],
   "source": [
    "# 4/0\n",
    "# zerodivisionerror: division by zero"
   ]
  },
  {
   "cell_type": "code",
   "execution_count": 11,
   "id": "1c95af56-4999-45f7-960b-e6154d6a5973",
   "metadata": {},
   "outputs": [],
   "source": [
    "# a = [1,2,3]\n",
    "# print(a[7])\n",
    "# IndexError: list index out of range"
   ]
  },
  {
   "cell_type": "code",
   "execution_count": 14,
   "id": "bcf98ed4-5564-404b-af20-57bb182799b1",
   "metadata": {},
   "outputs": [
    {
     "name": "stdout",
     "output_type": "stream",
     "text": [
      "없는거 찾지마, 혼자있고싶어.\n",
      "[Errno 2] No such file or directory: '뜬금파일'\n",
      "코드 작성을 마참니다. \n"
     ]
    }
   ],
   "source": [
    "try:\n",
    "    f = open( '뜬금파일','r')\n",
    "except FileNotFoundError as e:\n",
    "    if e:\n",
    "        print('없는거 찾지마, 혼자있고싶어.')\n",
    "    print(e)\n",
    "finally:\n",
    "    print('코드 작성을 마참니다. ')"
   ]
  },
  {
   "cell_type": "code",
   "execution_count": 15,
   "id": "ddf7f024-8d43-42ac-b04f-7dd8c1786dc5",
   "metadata": {},
   "outputs": [
    {
     "name": "stdout",
     "output_type": "stream",
     "text": [
      "0으로 나눌 수 없어요\n"
     ]
    }
   ],
   "source": [
    "try:\n",
    "    4/0\n",
    "except:\n",
    "    print('0으로 나눌 수 없어요')"
   ]
  },
  {
   "cell_type": "code",
   "execution_count": 16,
   "id": "683f163a-e09f-4226-a88a-37095844a388",
   "metadata": {},
   "outputs": [
    {
     "name": "stdout",
     "output_type": "stream",
     "text": [
      "0으로 나누지 마세요\n"
     ]
    }
   ],
   "source": [
    "try:\n",
    "    f = open('foo.txt', 'w')\n",
    "    f.write(4/0)\n",
    "except:\n",
    "    print('0으로 나누지 마세요')\n",
    "finally:\n",
    "    f.close()"
   ]
  },
  {
   "cell_type": "code",
   "execution_count": 18,
   "id": "f92b5549-92eb-43f2-babe-f820f8426fc0",
   "metadata": {},
   "outputs": [
    {
     "name": "stdout",
     "output_type": "stream",
     "text": [
      "tuple index out of range\n"
     ]
    }
   ],
   "source": [
    "try:\n",
    "    a = 1,2\n",
    "    print(a[512])\n",
    "    4/0\n",
    "except (ZeroDivisionError, IndexError) as e:\n",
    "    print(e)"
   ]
  },
  {
   "cell_type": "code",
   "execution_count": 19,
   "id": "9b1ebce9-e181-4fc7-a30b-c99c1771fe68",
   "metadata": {},
   "outputs": [
    {
     "name": "stdin",
     "output_type": "stream",
     "text": [
      "나이를 입력하세요 11\n"
     ]
    },
    {
     "name": "stdout",
     "output_type": "stream",
     "text": [
      "미성년자 출입금지\n",
      "====================\n",
      "분석끝.\n"
     ]
    }
   ],
   "source": [
    "# try-else 문\n",
    "try:\n",
    "    age = int(input(\"나이를 입력하세요\"))\n",
    "    if age <= 18:\n",
    "        print(\"미성년자 출입금지\")\n",
    "    else:\n",
    "        print(\"환영합니다\")\n",
    "except:\n",
    "    print(\"입력이 정확하지 않습니다\")\n",
    "finally:\n",
    "    print(\"=\"*20+\"\\n분석끝.\")"
   ]
  },
  {
   "cell_type": "code",
   "execution_count": 23,
   "id": "3191811f-ce39-4e2c-b8b9-b464fa71fa42",
   "metadata": {},
   "outputs": [
    {
     "name": "stdout",
     "output_type": "stream",
     "text": [
      "반가워\n"
     ]
    }
   ],
   "source": [
    "# 오류 회피하기\n",
    "try:\n",
    "    print('반가워')\n",
    "    f = open('없는파일','r') # 이 에러지점부터 이후로는 처리안함.\n",
    "    4/0\n",
    "    print('안녕')\n",
    "except FileNotFoundError:\n",
    "    pass"
   ]
  },
  {
   "cell_type": "code",
   "execution_count": 30,
   "id": "05bfbc29-804e-40ca-bd15-66f9b93580dd",
   "metadata": {},
   "outputs": [
    {
     "name": "stdout",
     "output_type": "stream",
     "text": [
      "난 독수리다\n"
     ]
    }
   ],
   "source": [
    "# 오류 일부러 발생시키기 ( 클래스 상속기반)\n",
    "class Bird:\n",
    "    def fly(self):\n",
    "        raise NotImplementedError\n",
    "\n",
    "class Eagle(Bird):\n",
    "    #pass\n",
    "     def fly(self):\n",
    "         print('난 독수리다')\n",
    "\n",
    "eagle = Eagle()\n",
    "eagle.fly()"
   ]
  },
  {
   "cell_type": "code",
   "execution_count": 31,
   "id": "94e98628-9433-4cbe-9c82-4e8d528d8d5d",
   "metadata": {},
   "outputs": [],
   "source": [
    "# 예외 만들기\n",
    "class MyError(Exception):\n",
    "    pass"
   ]
  },
  {
   "cell_type": "code",
   "execution_count": 32,
   "id": "a0cb6da6-058e-4512-966b-2c8a268dcbb3",
   "metadata": {},
   "outputs": [],
   "source": [
    "def say_nick(nick):\n",
    "    if nick == '바보':\n",
    "        raise MyError()\n",
    "    print(nick)"
   ]
  },
  {
   "cell_type": "code",
   "execution_count": 33,
   "id": "c137e6a5-192f-4960-89d0-388e718f1404",
   "metadata": {},
   "outputs": [
    {
     "ename": "MyError",
     "evalue": "",
     "output_type": "error",
     "traceback": [
      "\u001b[1;31m---------------------------------------------------------------------------\u001b[0m",
      "\u001b[1;31mMyError\u001b[0m                                   Traceback (most recent call last)",
      "Cell \u001b[1;32mIn[33], line 1\u001b[0m\n\u001b[1;32m----> 1\u001b[0m \u001b[43msay_nick\u001b[49m\u001b[43m(\u001b[49m\u001b[38;5;124;43m'\u001b[39;49m\u001b[38;5;124;43m바보\u001b[39;49m\u001b[38;5;124;43m'\u001b[39;49m\u001b[43m)\u001b[49m\n",
      "Cell \u001b[1;32mIn[32], line 3\u001b[0m, in \u001b[0;36msay_nick\u001b[1;34m(nick)\u001b[0m\n\u001b[0;32m      1\u001b[0m \u001b[38;5;28;01mdef\u001b[39;00m\u001b[38;5;250m \u001b[39m\u001b[38;5;21msay_nick\u001b[39m(nick):\n\u001b[0;32m      2\u001b[0m     \u001b[38;5;28;01mif\u001b[39;00m nick \u001b[38;5;241m==\u001b[39m \u001b[38;5;124m'\u001b[39m\u001b[38;5;124m바보\u001b[39m\u001b[38;5;124m'\u001b[39m:\n\u001b[1;32m----> 3\u001b[0m         \u001b[38;5;28;01mraise\u001b[39;00m MyError()\n\u001b[0;32m      4\u001b[0m     \u001b[38;5;28mprint\u001b[39m(nick)\n",
      "\u001b[1;31mMyError\u001b[0m: "
     ]
    }
   ],
   "source": [
    "say_nick('바보')"
   ]
  },
  {
   "cell_type": "code",
   "execution_count": 34,
   "id": "a6b02d32-20bd-43b3-a94e-6766c3fa961a",
   "metadata": {},
   "outputs": [
    {
     "name": "stdout",
     "output_type": "stream",
     "text": [
      "천사\n",
      "욕하지마 바보아냐, 그래도 사람은 착해 \n"
     ]
    }
   ],
   "source": [
    "try:\n",
    "    say_nick('천사')\n",
    "    say_nick('바보')\n",
    "except MyError as e:\n",
    "    print('욕하지마 바보아냐, 그래도 사람은 착해',e)"
   ]
  },
  {
   "cell_type": "code",
   "execution_count": 35,
   "id": "1c88aa0a-2aff-49ce-aced-8f416f3a65e8",
   "metadata": {},
   "outputs": [],
   "source": [
    "class MyError(Exception):\n",
    "    def __str__(self):\n",
    "        return \"욕하지마 그래도 사람은 착해\""
   ]
  },
  {
   "cell_type": "code",
   "execution_count": null,
   "id": "43543f07-33f9-47f8-9c04-991584d573a7",
   "metadata": {},
   "outputs": [],
   "source": []
  },
  {
   "cell_type": "code",
   "execution_count": null,
   "id": "254ef856-e857-4a80-ad3b-90716d1019f9",
   "metadata": {},
   "outputs": [],
   "source": []
  },
  {
   "cell_type": "code",
   "execution_count": null,
   "id": "72b024d2-e246-4d00-bfa0-3264a4c3367b",
   "metadata": {},
   "outputs": [],
   "source": []
  },
  {
   "cell_type": "code",
   "execution_count": null,
   "id": "743c1e44-8391-4438-866d-8fe214fa52e1",
   "metadata": {},
   "outputs": [],
   "source": []
  }
 ],
 "metadata": {
  "kernelspec": {
   "display_name": "Python 3 (ipykernel)",
   "language": "python",
   "name": "python3"
  },
  "language_info": {
   "codemirror_mode": {
    "name": "ipython",
    "version": 3
   },
   "file_extension": ".py",
   "mimetype": "text/x-python",
   "name": "python",
   "nbconvert_exporter": "python",
   "pygments_lexer": "ipython3",
   "version": "3.13.1"
  }
 },
 "nbformat": 4,
 "nbformat_minor": 5
}
