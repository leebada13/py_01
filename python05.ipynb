{
 "cells": [
  {
   "cell_type": "markdown",
   "id": "0638b49b-2cbc-4d79-88a1-5b7c4f721f28",
   "metadata": {},
   "source": [
    "# 클래스"
   ]
  },
  {
   "cell_type": "markdown",
   "id": "fc939d8a-bd32-476b-8a36-6ec9ef5c2fff",
   "metadata": {},
   "source": [
    "## 클래스 기본"
   ]
  },
  {
   "cell_type": "code",
   "execution_count": 1,
   "id": "22071706-5bd2-4a82-8513-b7d9441ac6d5",
   "metadata": {},
   "outputs": [
    {
     "name": "stdout",
     "output_type": "stream",
     "text": [
      "[1, 2, 3, 4] <class 'list'>\n",
      "(11, 22, 33, 44) <class 'tuple'>\n"
     ]
    }
   ],
   "source": [
    "what = [1,2,3,4]\n",
    "who = 11,22,33,44\n",
    "print(what,type(what))\n",
    "print(who,type(who))"
   ]
  },
  {
   "cell_type": "code",
   "execution_count": 2,
   "id": "29e55c68-2961-4301-b1c0-1bd30af65afe",
   "metadata": {},
   "outputs": [
    {
     "data": {
      "text/plain": [
       "['__add__',\n",
       " '__class__',\n",
       " '__class_getitem__',\n",
       " '__contains__',\n",
       " '__delattr__',\n",
       " '__dir__',\n",
       " '__doc__',\n",
       " '__eq__',\n",
       " '__format__',\n",
       " '__ge__',\n",
       " '__getattribute__',\n",
       " '__getitem__',\n",
       " '__getnewargs__',\n",
       " '__getstate__',\n",
       " '__gt__',\n",
       " '__hash__',\n",
       " '__init__',\n",
       " '__init_subclass__',\n",
       " '__iter__',\n",
       " '__le__',\n",
       " '__len__',\n",
       " '__lt__',\n",
       " '__mul__',\n",
       " '__ne__',\n",
       " '__new__',\n",
       " '__reduce__',\n",
       " '__reduce_ex__',\n",
       " '__repr__',\n",
       " '__rmul__',\n",
       " '__setattr__',\n",
       " '__sizeof__',\n",
       " '__str__',\n",
       " '__subclasshook__',\n",
       " 'count',\n",
       " 'index']"
      ]
     },
     "execution_count": 2,
     "metadata": {},
     "output_type": "execute_result"
    }
   ],
   "source": [
    "dir(tuple)"
   ]
  },
  {
   "cell_type": "code",
   "execution_count": 3,
   "id": "8cbd2ad1-e82d-4964-a0d8-54a95b70757d",
   "metadata": {},
   "outputs": [
    {
     "name": "stdout",
     "output_type": "stream",
     "text": [
      "3\n",
      "7\n",
      "3\n",
      "10\n"
     ]
    }
   ],
   "source": [
    "result1 = 0\n",
    "result2 = 0\n",
    "def add1(num) :\n",
    "    global result1\n",
    "    result1 += num\n",
    "    return result1\n",
    "def add2(num):\n",
    "    global result2\n",
    "    result2 += num\n",
    "    return result2\n",
    "print(add1(3))\n",
    "print(add1(4))\n",
    "print(add2(3))\n",
    "print(add2(7))"
   ]
  },
  {
   "cell_type": "code",
   "execution_count": 13,
   "id": "9834d2d0-2b99-46cf-9ba3-6ca03a09976d",
   "metadata": {},
   "outputs": [
    {
     "ename": "AttributeError",
     "evalue": "'calculator' object has no attribute 'add'",
     "output_type": "error",
     "traceback": [
      "\u001b[1;31m---------------------------------------------------------------------------\u001b[0m",
      "\u001b[1;31mAttributeError\u001b[0m                            Traceback (most recent call last)",
      "Cell \u001b[1;32mIn[13], line 14\u001b[0m\n\u001b[0;32m     12\u001b[0m cal1 \u001b[38;5;241m=\u001b[39m calculator() \u001b[38;5;66;03m# [1,2,3,4,5]\u001b[39;00m\n\u001b[0;32m     13\u001b[0m cal2 \u001b[38;5;241m=\u001b[39m calculator() \u001b[38;5;66;03m# ['a','b']\u001b[39;00m\n\u001b[1;32m---> 14\u001b[0m \u001b[38;5;28mprint\u001b[39m(\u001b[38;5;124m'\u001b[39m\u001b[38;5;124m1\u001b[39m\u001b[38;5;124m'\u001b[39m,\u001b[43mcal1\u001b[49m\u001b[38;5;241;43m.\u001b[39;49m\u001b[43madd\u001b[49m(\u001b[38;5;241m1\u001b[39m))\n\u001b[0;32m     15\u001b[0m \u001b[38;5;28mprint\u001b[39m(cal2\u001b[38;5;241m.\u001b[39madd(\u001b[38;5;241m1\u001b[39m))\n\u001b[0;32m     16\u001b[0m \u001b[38;5;28mprint\u001b[39m(cal2\u001b[38;5;241m.\u001b[39madd(\u001b[38;5;241m1\u001b[39m))\n",
      "\u001b[1;31mAttributeError\u001b[0m: 'calculator' object has no attribute 'add'"
     ]
    }
   ],
   "source": [
    "class calculator:\n",
    "    def __init__(self):\n",
    "        self.result = 0\n",
    "    def add1(self, num):\n",
    "        self.result += num\n",
    "        return self.result\n",
    "    def sub(self, num):\n",
    "        self.result -= num\n",
    "        return self.result\n",
    "        \n",
    "# 인스턴스화\n",
    "cal1 = calculator() # [1,2,3,4,5]\n",
    "cal2 = calculator() # ['a','b']\n",
    "print('1',cal1.add(1))\n",
    "print(cal2.add(1))\n",
    "print(cal2.add(1))\n",
    "print(cal2.add(1))\n",
    "print(cal1.add(1))\n",
    "print(cal1.add(1))\n",
    "\n",
    "print(cal2.sub(1))\n",
    "print(cal2.sub(1))"
   ]
  },
  {
   "cell_type": "markdown",
   "id": "d8c7eec0-4c8c-49eb-b31c-e03fea9a709b",
   "metadata": {},
   "source": [
    "## 생성자"
   ]
  },
  {
   "cell_type": "code",
   "execution_count": 23,
   "id": "d6a7d582-90fc-4c80-98c8-88f717014dcc",
   "metadata": {},
   "outputs": [],
   "source": [
    "class Dduk:\n",
    "    def __init__(self, won, ea):\n",
    "        self.won = won\n",
    "        self.ea = ea\n",
    "    def dduk(self):\n",
    "        result = self.won * self.ea\n",
    "        print( f\"배가 고파서 떡볶이 집에서 {result}원어치 먹었다.\")\n",
    "    def odeng(self):\n",
    "        result = self.won * 2 * self.ea\n",
    "        print( f\"배가 고파서 떡볶이 집에서 오뎅을{result}원어치 먹었다.\")"
   ]
  },
  {
   "cell_type": "code",
   "execution_count": 26,
   "id": "f4de5df0-5d85-4284-953f-4f43e30af11e",
   "metadata": {},
   "outputs": [],
   "source": [
    "성훈 = Dduk(2000,3)\n",
    "희성 = Dduk(3000,2)\n",
    "기윤 = Dduk(1500,6)"
   ]
  },
  {
   "cell_type": "code",
   "execution_count": 27,
   "id": "49d305f7-abcb-4140-a47f-54e3016203d7",
   "metadata": {},
   "outputs": [
    {
     "name": "stdout",
     "output_type": "stream",
     "text": [
      "배가 고파서 떡볶이 집에서 6000원어치 먹었다.\n",
      "배가 고파서 떡볶이 집에서 오뎅을12000원어치 먹었다.\n"
     ]
    }
   ],
   "source": [
    "성훈.dduk()\n",
    "성훈.odeng()"
   ]
  },
  {
   "cell_type": "code",
   "execution_count": 28,
   "id": "3eb69380-c787-4da7-96f3-c3711fe98b80",
   "metadata": {},
   "outputs": [
    {
     "name": "stdout",
     "output_type": "stream",
     "text": [
      "배가 고파서 떡볶이 집에서 9000원어치 먹었다.\n",
      "배가 고파서 떡볶이 집에서 오뎅을18000원어치 먹었다.\n"
     ]
    }
   ],
   "source": [
    "기윤.dduk()\n",
    "기윤.odeng()"
   ]
  },
  {
   "cell_type": "code",
   "execution_count": 29,
   "id": "338ba739-88f4-4bcf-afcb-b8d7b33bf860",
   "metadata": {},
   "outputs": [],
   "source": [
    "성훈. __init__ (3300,2)"
   ]
  },
  {
   "cell_type": "code",
   "execution_count": 30,
   "id": "3fd41b04-feaf-4027-bba6-0673def33944",
   "metadata": {},
   "outputs": [
    {
     "name": "stdout",
     "output_type": "stream",
     "text": [
      "배가 고파서 떡볶이 집에서 6600원어치 먹었다.\n",
      "배가 고파서 떡볶이 집에서 오뎅을13200원어치 먹었다.\n"
     ]
    }
   ],
   "source": [
    "성훈.dduk()\n",
    "성훈.odeng()"
   ]
  },
  {
   "cell_type": "code",
   "execution_count": null,
   "id": "e48d317c-845a-4aca-a645-c00c6d5a720a",
   "metadata": {},
   "outputs": [],
   "source": [
    "sundae\n",
    "\n",
    "바다.Duck( , )\n",
    "\n",
    "바다. __init__( , )"
   ]
  },
  {
   "cell_type": "code",
   "execution_count": 38,
   "id": "45789ab9-f00d-4a11-8172-b0b365ec0801",
   "metadata": {},
   "outputs": [],
   "source": [
    "class Dduk:\n",
    "    def __init__(self, won, ea):\n",
    "        self.won = won\n",
    "        self.ea = ea\n",
    "    def dduk(self):\n",
    "        result = self.won * self.ea\n",
    "        print( f\"배가 고파서 떡볶이 집에서 떡볶이를 {result}원어치 먹었다.\")\n",
    "    def odeng(self):\n",
    "        result = self.won * 2 * self.ea\n",
    "        print( f\"배가 고파서 떡볶이 집에서 오뎅을{result}원어치 먹었다.\")\n",
    "    def sundae(self):\n",
    "        result = self.won * self.ea\n",
    "        print( f\"배가 고파서 떡볶이 집에서 순대를 {result}원어치 먹었다.\")"
   ]
  },
  {
   "cell_type": "code",
   "execution_count": 39,
   "id": "ea4db4e0-5c8c-49aa-8209-c9606c063390",
   "metadata": {},
   "outputs": [],
   "source": [
    "바다 = Dduk(3000,2)"
   ]
  },
  {
   "cell_type": "code",
   "execution_count": 40,
   "id": "92582d48-6735-47c6-8469-a2656f14aebf",
   "metadata": {},
   "outputs": [],
   "source": [
    "바다. __init__ (3300,2)"
   ]
  },
  {
   "cell_type": "code",
   "execution_count": 41,
   "id": "9f662187-18f8-49c9-a0f1-977512250d82",
   "metadata": {},
   "outputs": [
    {
     "name": "stdout",
     "output_type": "stream",
     "text": [
      "배가 고파서 떡볶이 집에서 떡볶이를 6600원어치 먹었다.\n",
      "배가 고파서 떡볶이 집에서 오뎅을13200원어치 먹었다.\n",
      "배가 고파서 떡볶이 집에서 순대를 6600원어치 먹었다.\n"
     ]
    }
   ],
   "source": [
    "바다.dduk()\n",
    "바다.odeng()\n",
    "바다.sundae()"
   ]
  },
  {
   "cell_type": "markdown",
   "id": "3da05161-c571-4988-b3a6-a99b93607089",
   "metadata": {},
   "source": [
    "## 예제들"
   ]
  },
  {
   "cell_type": "code",
   "execution_count": 10,
   "id": "93d7e9be-0ff5-4e50-9f30-4bfe1e3b63ba",
   "metadata": {},
   "outputs": [
    {
     "name": "stdout",
     "output_type": "stream",
     "text": [
      "방가방가1 저는 고전 인사입니다!!\n",
      "방가방가2 저는 고전 인사입니다!!\n",
      "방가방가3 저는 고전 인사입니다!!\n",
      "==============================\n",
      "\n",
      "이것은 예로부터 전해오는 고전 인사함수 입니다. DocStirng\n",
      "\n",
      "==============================\n",
      "Help on function test in module __main__:\n",
      "\n",
      "test()\n",
      "    이것은 예로부터 전해오는 고전 인사함수 입니다. DocStirng\n",
      "\n"
     ]
    }
   ],
   "source": [
    "# 테스트\n",
    "def test():\n",
    "    \"\"\"\n",
    "     이것은 예로부터 전해오는 고전 인사함수 입니다. DocStirng\n",
    "    \"\"\"\n",
    "    \n",
    "    print(\"방가방가1 저는 고전 인사입니다!!\")\n",
    "    print(\"방가방가2 저는 고전 인사입니다!!\")\n",
    "    print(\"방가방가3 저는 고전 인사입니다!!\")\n",
    "test()\n",
    "print(\"=\"*30)\n",
    "print(test.__doc__)\n",
    "print(\"=\"*30)\n",
    "help(test)\n"
   ]
  },
  {
   "cell_type": "code",
   "execution_count": 64,
   "id": "8f020535-b777-4bd0-ade8-d7fa8b75b0a3",
   "metadata": {},
   "outputs": [
    {
     "name": "stdout",
     "output_type": "stream",
     "text": [
      "{'name': 'HD', 'color': 'Blue'}\n",
      "Car:HD,Color:Blue\n",
      "Car:Kia,Color:White\n"
     ]
    }
   ],
   "source": [
    "# 테스트2\n",
    "# class의 self없이 함수 만들기\n",
    "def set_car(name, color):\n",
    "    return {\"name\":name,\"color\":color}\n",
    "# print(set_car(\"HD\",\"Blue\"))\n",
    "def get_car_info(car):\n",
    "    return f\"Car:{car['name']},Color:{car['color']}\"\n",
    "\n",
    "# 자동차를 생성\n",
    "car = set_car(\"HD\",\"Blue\")\n",
    "print(car)\n",
    "# 자동차 정보를 생성\n",
    "print(get_car_info(car))\n",
    "\n",
    "print(get_car_info(set_car(\"Kia\",\"White\")))"
   ]
  },
  {
   "cell_type": "code",
   "execution_count": 65,
   "id": "5d9fc34b-d9aa-45d7-af6e-24aa2fb7abe6",
   "metadata": {},
   "outputs": [
    {
     "name": "stdout",
     "output_type": "stream",
     "text": [
      "Car:HD,Color:Yellow\n",
      "Car:Kia,Color:White\n"
     ]
    }
   ],
   "source": [
    "# 테스트3\n",
    "class Car:\n",
    "    def set_car(name, color):\n",
    "        return {\"name\":name,\"color\":color}\n",
    "    def get_car_info(car):\n",
    "        return f\"Car:{car['name']},Color:{car['color']}\"\n",
    "\n",
    "car1 = Car.set_car(\"HD\",\"Yellow\")\n",
    "car2 = Car.set_car(\"Kia\",\"White\") \n",
    "print(Car.get_car_info(car1))\n",
    "print(Car.get_car_info(car2))"
   ]
  },
  {
   "cell_type": "code",
   "execution_count": 66,
   "id": "36c48f20-d115-429a-a4b9-7a216123e054",
   "metadata": {},
   "outputs": [
    {
     "name": "stdout",
     "output_type": "stream",
     "text": [
      "Car:HD,Color:Black\n",
      "Car:Kia,Color:Gray\n"
     ]
    }
   ],
   "source": [
    "# 테스트4\n",
    "class Car:\n",
    "    def __init__(self,name,color): #생성자\n",
    "        self.name = name\n",
    "        self.color = color\n",
    "    def get_car_info(self):\n",
    "        return f\"Car:{self.name},Color:{self.color}\"\n",
    "\n",
    "car1 = Car(\"HD\",\"Black\")\n",
    "car2 = Car(\"Kia\",\"Gray\")\n",
    "\n",
    "print(car1.get_car_info())\n",
    "print(car2.get_car_info())"
   ]
  },
  {
   "cell_type": "code",
   "execution_count": 10,
   "id": "baed9da9-adc0-420e-9b38-7f9e6ab3eb51",
   "metadata": {},
   "outputs": [],
   "source": [
    "# 테스트5\n",
    "class Car:\n",
    "    def __init__(self,name,color): #생성자\n",
    "        self.name = name\n",
    "        self.color = color\n",
    "        self.speed = 0\n",
    "    def get_car_info(self):\n",
    "        return f\"Car:{self.name},Color:{self.color}\"\n",
    "    def acc(self,amount):\n",
    "        self.speed += amount # 속도가 증가\n",
    "        return f\"{self.name} 속도 올려요. 현재속도는 {self.speed}Km/h\""
   ]
  },
  {
   "cell_type": "code",
   "execution_count": 2,
   "id": "ac40bbce-3a01-4903-93c9-f9748f1cad86",
   "metadata": {},
   "outputs": [
    {
     "name": "stdout",
     "output_type": "stream",
     "text": [
      "Car:HD,Color:Black\n",
      "Car:Kia,Color:Gray\n"
     ]
    }
   ],
   "source": [
    "car1 = Car(\"HD\",\"Black\")\n",
    "car2 = Car(\"Kia\",\"Gray\")\n",
    "print(car1.get_car_info())\n",
    "print(car2.get_car_info())"
   ]
  },
  {
   "cell_type": "code",
   "execution_count": 3,
   "id": "d5733ba6-54a2-4b38-8f6f-26c955807eb7",
   "metadata": {},
   "outputs": [
    {
     "name": "stdout",
     "output_type": "stream",
     "text": [
      "HD 속도 올려요. 현재속도는 30Km/h\n",
      "Kia 속도 올려요. 현재속도는 50Km/h\n",
      "HD 속도 올려요. 현재속도는 40Km/h\n"
     ]
    }
   ],
   "source": [
    "print(car1.acc(30))\n",
    "print(car2.acc(50))\n",
    "print(car1.acc(10))"
   ]
  },
  {
   "cell_type": "code",
   "execution_count": 4,
   "id": "4d05bad8-3a50-4ba1-8dfb-6c5e538381b3",
   "metadata": {},
   "outputs": [
    {
     "name": "stdout",
     "output_type": "stream",
     "text": [
      "HD 속도 올려요. 현재속도는 41Km/h\n",
      "HD 속도 올려요. 현재속도는 42Km/h\n",
      "HD 속도 올려요. 현재속도는 43Km/h\n",
      "HD 속도 올려요. 현재속도는 44Km/h\n",
      "HD 속도 올려요. 현재속도는 45Km/h\n",
      "HD 속도 올려요. 현재속도는 46Km/h\n",
      "HD 속도 올려요. 현재속도는 47Km/h\n",
      "HD 속도 올려요. 현재속도는 48Km/h\n",
      "HD 속도 올려요. 현재속도는 49Km/h\n",
      "HD 속도 올려요. 현재속도는 50Km/h\n",
      "HD 속도 올려요. 현재속도는 51Km/h\n",
      "HD 속도 올려요. 현재속도는 52Km/h\n",
      "HD 속도 올려요. 현재속도는 53Km/h\n",
      "HD 속도 올려요. 현재속도는 54Km/h\n",
      "HD 속도 올려요. 현재속도는 55Km/h\n",
      "HD 속도 올려요. 현재속도는 56Km/h\n",
      "HD 속도 올려요. 현재속도는 57Km/h\n",
      "HD 속도 올려요. 현재속도는 58Km/h\n",
      "HD 속도 올려요. 현재속도는 59Km/h\n",
      "HD 속도 올려요. 현재속도는 60Km/h\n",
      "HD 속도 올려요. 현재속도는 61Km/h\n",
      "HD 속도 올려요. 현재속도는 62Km/h\n",
      "HD 속도 올려요. 현재속도는 63Km/h\n",
      "HD 속도 올려요. 현재속도는 64Km/h\n",
      "HD 속도 올려요. 현재속도는 65Km/h\n",
      "HD 속도 올려요. 현재속도는 66Km/h\n",
      "HD 속도 올려요. 현재속도는 67Km/h\n",
      "HD 속도 올려요. 현재속도는 68Km/h\n",
      "HD 속도 올려요. 현재속도는 69Km/h\n",
      "HD 속도 올려요. 현재속도는 70Km/h\n",
      "HD 속도 올려요. 현재속도는 71Km/h\n",
      "HD 속도 올려요. 현재속도는 72Km/h\n",
      "HD 속도 올려요. 현재속도는 73Km/h\n",
      "HD 속도 올려요. 현재속도는 74Km/h\n",
      "HD 속도 올려요. 현재속도는 75Km/h\n",
      "HD 속도 올려요. 현재속도는 76Km/h\n",
      "HD 속도 올려요. 현재속도는 77Km/h\n",
      "HD 속도 올려요. 현재속도는 78Km/h\n",
      "HD 속도 올려요. 현재속도는 79Km/h\n",
      "HD 속도 올려요. 현재속도는 80Km/h\n",
      "HD 속도 올려요. 현재속도는 81Km/h\n",
      "HD 속도 올려요. 현재속도는 82Km/h\n",
      "HD 속도 올려요. 현재속도는 83Km/h\n",
      "HD 속도 올려요. 현재속도는 84Km/h\n",
      "HD 속도 올려요. 현재속도는 85Km/h\n",
      "HD 속도 올려요. 현재속도는 86Km/h\n",
      "HD 속도 올려요. 현재속도는 87Km/h\n",
      "HD 속도 올려요. 현재속도는 88Km/h\n",
      "HD 속도 올려요. 현재속도는 89Km/h\n",
      "HD 속도 올려요. 현재속도는 90Km/h\n",
      "HD 속도 올려요. 현재속도는 91Km/h\n",
      "HD 속도 올려요. 현재속도는 92Km/h\n",
      "HD 속도 올려요. 현재속도는 93Km/h\n",
      "HD 속도 올려요. 현재속도는 94Km/h\n",
      "HD 속도 올려요. 현재속도는 95Km/h\n",
      "HD 속도 올려요. 현재속도는 96Km/h\n",
      "HD 속도 올려요. 현재속도는 97Km/h\n",
      "HD 속도 올려요. 현재속도는 98Km/h\n",
      "HD 속도 올려요. 현재속도는 99Km/h\n",
      "HD 속도 올려요. 현재속도는 100Km/h\n",
      "100Km/h 속도 유지중...\n"
     ]
    }
   ],
   "source": [
    "import time as t\n",
    "for n in range(60):\n",
    "    print(car1.acc(1))\n",
    "    t.sleep(1)\n",
    "print(\"100Km/h 속도 유지중...\")"
   ]
  },
  {
   "cell_type": "code",
   "execution_count": 15,
   "id": "43c1d81c-ae88-4f9e-8e30-2a3e374803fa",
   "metadata": {},
   "outputs": [],
   "source": [
    "class Mycar(Car):\n",
    "    def turbo(self):\n",
    "        self.speed += 50\n",
    "        print(f\"내 차가 나른다!! 터보! {self.speed} Km/h\")"
   ]
  },
  {
   "cell_type": "code",
   "execution_count": 16,
   "id": "b627e39b-020c-440a-9506-67aec4af88ce",
   "metadata": {},
   "outputs": [],
   "source": [
    "my = Mycar(\"mycar\", \"black\")"
   ]
  },
  {
   "cell_type": "code",
   "execution_count": 17,
   "id": "e23600cc-6717-447d-a0bc-a84d8daecb36",
   "metadata": {},
   "outputs": [
    {
     "name": "stdout",
     "output_type": "stream",
     "text": [
      "내 차가 나른다!! 터보! 50 Km/h\n",
      "None\n",
      "내 차가 나른다!! 터보! 100 Km/h\n",
      "None\n"
     ]
    }
   ],
   "source": [
    "print(my.turbo())\n",
    "print(my.turbo())"
   ]
  },
  {
   "cell_type": "code",
   "execution_count": 62,
   "id": "85fc9c55-023e-4500-bca1-85e8893b542b",
   "metadata": {},
   "outputs": [
    {
     "name": "stdout",
     "output_type": "stream",
     "text": [
      "뽀삐에게 밥을 줬습니다.! 배고픔:40\n",
      "뽀삐에게 밥을 줬습니다.! 배고픔:30\n",
      "아지와 아주 잘 놀아줬어요!! 배고픔:70\n",
      "아지와 아주 잘 놀아줬어요!! 배고픔:90\n",
      "아지와 아주 잘 놀아줬어요!! 배고픔:100\n",
      "뽀삐와 아주 잘 놀아줬어요!! 배고픔:50\n",
      "뽀삐와 아주 잘 놀아줬어요!! 배고픔:70\n",
      "컁이와 아주 잘 놀아줬어요!! 배고픔:70\n",
      "컁이와 아주 잘 놀아줬어요!! 배고픔:90\n",
      "컁이에게 밥을 줬습니다.! 배고픔:80\n"
     ]
    }
   ],
   "source": [
    "# 테스트7\n",
    "class Pet:\n",
    "    def __init__(self,name,species):\n",
    "        \"\"\"펫을 생성\"\"\"\n",
    "        self.name = name\n",
    "        self.species = species\n",
    "        self.hunger = 50 # 초기 배고픔 수치 ( 0 ~ 100 )\n",
    "    def feed(self):\n",
    "        \"\"\"밥을 주면 배고픔 감소\"\"\"\n",
    "        if self.hunger > 10:\n",
    "            self.hunger -= 10\n",
    "            return f\"{self.name}에게 밥을 줬습니다.! 배고픔:{self.hunger}\"\n",
    "    def play(self):\n",
    "        \"\"\"놀아주면 배고픔이 증가\"\"\"\n",
    "        if self.hunger <= 80:\n",
    "            self.hunger += 20\n",
    "        else:\n",
    "            self.hunger = 100\n",
    "        return f\"{self.name}와 아주 잘 놀아줬어요!! 배고픔:{self.hunger}\"\n",
    "    \n",
    "\n",
    "# 펫 생성\n",
    "dog1 = Pet(\"뽀삐\",\"말티즈\")\n",
    "dog2 = Pet(\"아지\",\"요크\")\n",
    "cat = Pet(\"컁이\",\"나만고양없어\")\n",
    "print(dog1.feed())\n",
    "print(dog1.feed())\n",
    "print(dog2.play())\n",
    "print(dog2.play())\n",
    "print(dog2.play())\n",
    "print(dog1.play())\n",
    "print(dog1.play())\n",
    "print(cat.play())\n",
    "print(cat.play())\n",
    "print(cat.feed())"
   ]
  },
  {
   "cell_type": "code",
   "execution_count": 63,
   "id": "59689c77-0671-44a6-84a7-47459574054f",
   "metadata": {},
   "outputs": [
    {
     "name": "stdout",
     "output_type": "stream",
     "text": [
      "1 시간 후 세균 수: 200 마리\n",
      "3 시간 후 세균 수: 800 마리\n",
      "6 시간 후 세균 수: 6400 마리\n"
     ]
    }
   ],
   "source": [
    "# 테스트 8\n",
    "class Bacteria:\n",
    "    def __init__ (self,initial_population, growth_rate):\n",
    "        \"\"\"세균초기화\"\"\"\n",
    "        self.population = initial_population\n",
    "        self.growth_rate = growth_rate\n",
    "        self.time = 0 # 시작시간\n",
    "    def grow(self,hours):\n",
    "        \"\"\"일정 시간이 지나면 세균이 증식함\"\"\"\n",
    "        self.time += hours\n",
    "        self.population *= self.growth_rate **hours\n",
    "        return f\"{self.time} 시간 후 세균 수: { int(self.population)} 마리\"\n",
    "    def check(self):\n",
    "        \"\"\"현재 세균 수 확인\"\"\"\n",
    "        return f\"현재 세균 수 : { int(self.population)} 마리\"\n",
    "\n",
    "bacteria = Bacteria( 100, 2)\n",
    "\n",
    "print(bacteria.grow(1))\n",
    "print(bacteria.grow(2))\n",
    "print(bacteria.grow(3))"
   ]
  },
  {
   "cell_type": "code",
   "execution_count": 61,
   "id": "9958f9f5-2693-4441-9291-28b99fb09c98",
   "metadata": {},
   "outputs": [
    {
     "name": "stdout",
     "output_type": "stream",
     "text": [
      "철수님의 잔고는 50000원 입니다.\n",
      "영희님의 잔고는 200000원 입니다.\n",
      "0.02%의 이자가 반영된 금액은 51000원 입니다.\n",
      "0.02%의 이자가 반영된 금액은 204000원 입니다.\n",
      "0.03%의 이자가 반영된 금액은 51500원 입니다.\n",
      "0.03%의 이자가 반영된 금액은 206000원 입니다.\n"
     ]
    }
   ],
   "source": [
    "# 테스트 9 은행 예금 캡슐화 예제, 클래스 변수\n",
    "class BankAccount:\n",
    "    interest_rate = 0.02 # 클래스 변수\n",
    "    def __init__(self, owner, balance):\n",
    "        self.owner = owner\n",
    "        self.__balance = balance or 0\n",
    "    def bprint(self):\n",
    "        return f\"{self.owner}님의 잔고는 {self.__balance}원 입니다.\"\n",
    "    def deposit(self, amount):\n",
    "        self.__balance += amount\n",
    "        return f\"{self.owner}님의 계좌에 {amount} 원이 입금 되었습니다. 현재 잔액: {self.__balance}원\"\n",
    "    def withdraw(self, amount):\n",
    "        if self.__balance >= amount:\n",
    "            self.__balance -= amount\n",
    "            return f\"{self.owner}님의 계좌에 {amount} 원이 입금 되었습니다. 현재 잔액: {self.__balance}원\"\n",
    "        return \"잔액이 부족합니다.\"\n",
    "    def interest(self):\n",
    "        total = self.__balance*(1+self.interest_rate)\n",
    "        return f\"{self.interest_rate}%의 이자가 반영된 금액은 {total:.0f}원 입니다.\"\n",
    "# 인스턴스화\n",
    "acc3 = BankAccount(\"철수\",50000)\n",
    "acc4 = BankAccount(\"영희\",200000)\n",
    "print(acc3.bprint())\n",
    "print(acc4.bprint())\n",
    "print(acc3.interest())\n",
    "print(acc4.interest())\n",
    "BankAccount.interest_rate = 0.03\n",
    "print(acc3.interest())\n",
    "print(acc4.interest())\n",
    "\n",
    "# 공격후\n",
    "# acc1.balance = 9000000\n",
    "# print(acc3.balance)\n",
    "\n",
    "#내장메소드로 캡슐화된 변수 접근\n",
    "# print(acc3.deposit(30000))\n",
    "# print(acc3.withdraw(5500))"
   ]
  },
  {
   "cell_type": "code",
   "execution_count": 8,
   "id": "18347737-a12f-4099-bcad-56c3ac8ed923",
   "metadata": {},
   "outputs": [
    {
     "name": "stdout",
     "output_type": "stream",
     "text": [
      "잔액이 2000뭔으로 증가했습니다.\n",
      "콜라을(를) 구매했습니다! 남은 잔액: 500원\n",
      "잔액이 부족합니다! (사이다 가격: 1400원, 현재 잔액: 500원)\n",
      "잔액 500뭔이 반환되었습니다.\n"
     ]
    }
   ],
   "source": [
    "class VendingMachine:\n",
    "    def __init__(self):\n",
    "        \"\"\"자동판매기 초기화\"\"\"\n",
    "        self.balance = 0 # 사용자의 잔액\n",
    "        self.items = { # 상품 목록 (이름: 가격)\n",
    "        \"콜라\": 1500,\n",
    "        \"사이다\": 1400,\n",
    "        \"물\": 1000\n",
    "        }\n",
    "    def insert_money(self, amount):\n",
    "        \"\"\"잔액 충전\"\"\"\n",
    "        self.balance += amount\n",
    "        return f\"잔액이 {self.balance}뭔으로 증가했습니다.\"\n",
    "    def buy_item(self, item_name):\n",
    "        \"\"\"상품 구매\"\"\"\n",
    "        if item_name not in self.items:\n",
    "            return f\"{item_name}은(는) 판매하지 않는 상품입니다.\"\n",
    "        price = self.items[item_name]\n",
    "        if self.balance < price:\n",
    "            return f\"잔액이 부족합니다! ({item_name} 가격: {price}원, 현재 잔액: {self.balance}원)\"\n",
    "        self.balance -= price\n",
    "        return f\"{item_name}을(를) 구매했습니다! 남은 잔액: {self.balance}원\"\n",
    "    def refund(self):\n",
    "        \"\"\"잔액 반환\"\"\"\n",
    "        amount = self.balance\n",
    "        self.balance = 0\n",
    "        return f\"잔액 {amount}뭔이 반환되었습니다.\"\n",
    "# 자동판매기 객체 생성\n",
    "vm = VendingMachine()\n",
    "# 잔액 충전\n",
    "print(vm.insert_money(2000)) # 잔액이 2000원으로 증가했습니다.\n",
    "# 상품 구매\n",
    "print(vm.buy_item(\"콜라\")) # 콜라을(를) 구매했습니다! 남은 잔액: 500원\n",
    "print(vm.buy_item(\"사이다\")) # 잔액이 부족합니다! (사이다 가격: 1400원, 현재 잔액: 500원)\n",
    "# 잔액 받환\n",
    "print(vm.refund()) # 잔액 500원이 반환되었습니다.   "
   ]
  },
  {
   "cell_type": "code",
   "execution_count": null,
   "id": "56662d72-eb74-45ac-b087-0544613ed939",
   "metadata": {},
   "outputs": [],
   "source": []
  }
 ],
 "metadata": {
  "kernelspec": {
   "display_name": "Python 3 (ipykernel)",
   "language": "python",
   "name": "python3"
  },
  "language_info": {
   "codemirror_mode": {
    "name": "ipython",
    "version": 3
   },
   "file_extension": ".py",
   "mimetype": "text/x-python",
   "name": "python",
   "nbconvert_exporter": "python",
   "pygments_lexer": "ipython3",
   "version": "3.13.1"
  }
 },
 "nbformat": 4,
 "nbformat_minor": 5
}
