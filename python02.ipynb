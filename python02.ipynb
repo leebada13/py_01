{
 "cells": [
  {
   "cell_type": "markdown",
   "id": "4b377a6d-37e0-4c18-9241-901829f566ca",
   "metadata": {},
   "source": [
    "# 자료형"
   ]
  },
  {
   "cell_type": "markdown",
   "id": "3049a98b-b882-4bdc-8eae-f329df95fb7a",
   "metadata": {},
   "source": [
    "## 리스트 자료형"
   ]
  },
  {
   "cell_type": "markdown",
   "id": "64b373f1-6f51-49d5-b3b3-d22b4af98bd0",
   "metadata": {},
   "source": [
    "### 리스트의 인덱싱과 슬라이싱"
   ]
  },
  {
   "cell_type": "code",
   "execution_count": 2,
   "id": "ee825092-7d45-4cad-9ac4-e233b3e351c0",
   "metadata": {},
   "outputs": [],
   "source": [
    "odd = [1,3,5,7,9]"
   ]
  },
  {
   "cell_type": "code",
   "execution_count": 10,
   "id": "2179c9e3-0472-4de3-b1bf-e94a56cba58e",
   "metadata": {},
   "outputs": [
    {
     "name": "stdout",
     "output_type": "stream",
     "text": [
      "['Life', 'is']\n",
      "Life\n",
      "is\n"
     ]
    }
   ],
   "source": [
    "a = []\n",
    "b = [1, 2, 3]\n",
    "c = ['Life', 'is', 'too', 'short']\n",
    "d = [1, 2, 'Life', 'is']\n",
    "e = [1, 2, ['Life', 'is']]\n",
    "print(e[2])\n",
    "print(e[2][0])\n",
    "print(e[2][1])"
   ]
  },
  {
   "cell_type": "code",
   "execution_count": null,
   "id": "3bb686f1-b611-4d52-bb0c-44d8b229de69",
   "metadata": {},
   "outputs": [],
   "source": [
    "# 리스트의 인덱싱과 연산\n",
    "print(b[1]"
   ]
  },
  {
   "cell_type": "code",
   "execution_count": 9,
   "id": "f98de754-dbfb-4db7-bc5a-d3e2cb90585f",
   "metadata": {},
   "outputs": [
    {
     "name": "stdout",
     "output_type": "stream",
     "text": [
      "[11, 22, 33, 44, 55]\n",
      "[33, 44, 55]\n",
      "[11, 22]\n",
      "[44, 55]\n",
      "[55, 44, 33, 22, 11]\n"
     ]
    }
   ],
   "source": [
    "# 리스트의 슬라이싱\n",
    "a = [11, 22, 33, 44, 55]\n",
    "print(a[:])\n",
    "print(a[2:])\n",
    "print(a[:-3])\n",
    "print(a[-2:])\n",
    "print(a[::-1])"
   ]
  },
  {
   "cell_type": "markdown",
   "id": "5380dff2-098c-4df6-aadb-ee18c69e1011",
   "metadata": {},
   "source": [
    "### 리스트 연산, 수정, 삭제"
   ]
  },
  {
   "cell_type": "code",
   "execution_count": 8,
   "id": "477e5081-d86f-4144-8e04-b82a86264543",
   "metadata": {},
   "outputs": [
    {
     "name": "stdout",
     "output_type": "stream",
     "text": [
      "[11, 22, 33, 44, 55, 66]\n",
      "[11, 22, 33, 11, 22, 33, 11, 22, 33]\n"
     ]
    },
    {
     "data": {
      "text/plain": [
       "9"
      ]
     },
     "execution_count": 8,
     "metadata": {},
     "output_type": "execute_result"
    }
   ],
   "source": [
    "a = [11,22,33]\n",
    "b = [44,55,66]\n",
    "# 리스트 더하기\n",
    "print(a+b)\n",
    "# 리스트 반복하기\n",
    "c = a * 3\n",
    "print(c)\n",
    "len(c)"
   ]
  },
  {
   "cell_type": "code",
   "execution_count": 17,
   "id": "422f6be2-3fa7-401c-b176-c8d295f439d1",
   "metadata": {},
   "outputs": [
    {
     "name": "stdout",
     "output_type": "stream",
     "text": [
      "[11, 22, 44]\n",
      "[11, 44]\n"
     ]
    }
   ],
   "source": [
    "# 리스트 값 수정하기\n",
    "a = [11,22,33]\n",
    "a[2] = 44\n",
    "print(a)\n",
    "# a[3] = 55 # 없는 요소를 수정하는 것은 에러\n",
    "# print(a)\n",
    "# a[1] = '' # 빈칸 삽입\n",
    "# a[1] = 0 # 0으로 수정 삽입\n",
    "# 리스트 값 삭제하기\n",
    "del a[1]\n",
    "print(a)"
   ]
  },
  {
   "cell_type": "code",
   "execution_count": 18,
   "id": "7a94c166-8bde-4a09-b663-6fd2d826a049",
   "metadata": {},
   "outputs": [
    {
     "name": "stdout",
     "output_type": "stream",
     "text": [
      "['Life', 'is', 'too', 'short']\n",
      "[]\n"
     ]
    }
   ],
   "source": [
    "# 리스트 값 슬라이싱으로 삭제\n",
    "print(c)\n",
    "del c[:]\n",
    "print(c)"
   ]
  },
  {
   "cell_type": "code",
   "execution_count": null,
   "id": "81d3dc6d-bf2b-47bf-9055-174c4fb83c22",
   "metadata": {},
   "outputs": [],
   "source": [
    "[11, 22, 33, 11, 22, 33, 11, 22, 33]"
   ]
  },
  {
   "cell_type": "markdown",
   "id": "bb321f28-b282-4219-94f5-ee5fea388ec0",
   "metadata": {},
   "source": [
    "### 리스트 관련 함수"
   ]
  },
  {
   "cell_type": "code",
   "execution_count": 19,
   "id": "60b94cc2-1315-45bf-aed7-828562e488c7",
   "metadata": {},
   "outputs": [
    {
     "name": "stdout",
     "output_type": "stream",
     "text": [
      "[]\n"
     ]
    }
   ],
   "source": [
    "# 리스트 요소 비우기\n",
    "c.clear()\n",
    "print(c)"
   ]
  },
  {
   "cell_type": "code",
   "execution_count": null,
   "id": "c3c0c483-6c48-4e25-b1e0-36048455be64",
   "metadata": {},
   "outputs": [],
   "source": [
    "a=[] # 리스트 초기화"
   ]
  },
  {
   "cell_type": "code",
   "execution_count": 21,
   "id": "bc4529ca-d526-4062-8ac3-ca3383e5247f",
   "metadata": {},
   "outputs": [
    {
     "name": "stdout",
     "output_type": "stream",
     "text": [
      "[11, 44, 4, [11, 22], 4]\n",
      "[11, 44, 4, [11, 22], 4, [11, 22]]\n"
     ]
    }
   ],
   "source": [
    "# 리스트에 요소 추가하기 - append\n",
    "a.append(4)\n",
    "print(a)\n",
    "a.append([11,22])\n",
    "print(a)"
   ]
  },
  {
   "cell_type": "code",
   "execution_count": 22,
   "id": "f005f4d1-a420-46c0-a222-bbf29c228f9c",
   "metadata": {},
   "outputs": [
    {
     "name": "stdout",
     "output_type": "stream",
     "text": [
      "[11, 22, 33, 44, 55]\n"
     ]
    }
   ],
   "source": [
    "# 리스트 정렬(오름차순) - sort\n",
    "a = [11,44,33,22,55]\n",
    "a.sort()\n",
    "print(a)"
   ]
  },
  {
   "cell_type": "code",
   "execution_count": 24,
   "id": "c3cd8c3e-6320-494b-a4c9-4da9911ddc84",
   "metadata": {},
   "outputs": [
    {
     "name": "stdout",
     "output_type": "stream",
     "text": [
      "[55, 44, 33, 22, 11]\n"
     ]
    }
   ],
   "source": [
    "# 리스트 정렬 (내림차순) - sort\n",
    "a = [11, 44, 33, 22, 55]\n",
    "a.sort(reverse=True)\n",
    "print(a)"
   ]
  },
  {
   "cell_type": "code",
   "execution_count": 28,
   "id": "7d1da681-252c-4b89-a042-01fe3b0d72d2",
   "metadata": {},
   "outputs": [
    {
     "name": "stdout",
     "output_type": "stream",
     "text": [
      "[66, 77, 88, 99, 0]\n",
      "[0, 66, 77, 88, 99]\n",
      "[99, 88, 77, 66, 0]\n"
     ]
    }
   ],
   "source": [
    "# 리스트 정렬 원본 유지하기\n",
    "aa = [66,77,88,99,0]\n",
    "bb = sorted(aa)\n",
    "cc = sorted(aa,reverse=True)\n",
    "print(aa)\n",
    "print(bb)\n",
    "print(cc)"
   ]
  },
  {
   "cell_type": "code",
   "execution_count": 25,
   "id": "4e9917f3-8d7a-499f-be88-213a959f1a80",
   "metadata": {},
   "outputs": [
    {
     "name": "stdout",
     "output_type": "stream",
     "text": [
      "[55, 22, 33, 44, 11]\n"
     ]
    }
   ],
   "source": [
    "# 리스트 뒤집기 - reverse\n",
    "a = [11, 44, 33, 22, 55]\n",
    "a.reverse()\n",
    "print(a)"
   ]
  },
  {
   "cell_type": "code",
   "execution_count": 26,
   "id": "666940f4-dd4a-4c61-b430-f108cff6c641",
   "metadata": {},
   "outputs": [
    {
     "name": "stdout",
     "output_type": "stream",
     "text": [
      "['banana', 'kiwi', 'orange', 'melon', 'pear', 'apple', 'strawberry', 'blueberry']\n",
      "['kiwi', 'pear', 'melon', 'apple', 'banana', 'orange', 'blueberry', 'strawberry']\n",
      "['strawberry', 'blueberry', 'banana', 'orange', 'melon', 'apple', 'kiwi', 'pear']\n"
     ]
    }
   ],
   "source": [
    "# sorted 응용\n",
    "fruit = ['banana', 'kiwi', 'orange', 'melon','pear','apple','strawberry','blueberry']\n",
    "result = sorted(fruit,key=len)\n",
    "result2 = sorted(fruit,key=len,reverse=True)\n",
    "print(fruit)\n",
    "print(result)\n",
    "print(result2)"
   ]
  },
  {
   "cell_type": "code",
   "execution_count": 29,
   "id": "94154d7e-c13c-431d-8b68-3030f73c1688",
   "metadata": {},
   "outputs": [
    {
     "name": "stdout",
     "output_type": "stream",
     "text": [
      "과일을 먹어볼까?\n",
      "kiwi 냠냠 맛있다.\n",
      "pear 냠냠 맛있다.\n",
      "melon 냠냠 맛있다.\n",
      "apple 냠냠 맛있다.\n",
      "banana못먹겠어! 웩!\n",
      "orange 냠냠 맛있다.\n",
      "blueberry 냠냠 맛있다.\n",
      "strawberry 냠냠 맛있다.\n",
      "와 ~ 다먹었다.\n"
     ]
    }
   ],
   "source": [
    "print('과일을 먹어볼까?')\n",
    "for r in result :\n",
    "    if r == 'banana':\n",
    "        print(r + '못먹겠어! 웩!')\n",
    "    if r != 'banana':\n",
    "        print(r + ' 냠냠 맛있다.')\n",
    "print('와 ~ 다먹었다.')"
   ]
  },
  {
   "cell_type": "code",
   "execution_count": 9,
   "id": "ee787401-63d3-4a50-a058-69750b200208",
   "metadata": {},
   "outputs": [
    {
     "name": "stdout",
     "output_type": "stream",
     "text": [
      "[1, 2, 1, 2, 3]\n",
      "[1, 2, 1, 2]\n"
     ]
    }
   ],
   "source": [
    "# 리스트 요소 제거 - remove\n",
    "a = [1,2,3,1,2,3]\n",
    "a.remove(3)\n",
    "print(a)\n",
    "a.remove(3)\n",
    "print(a)"
   ]
  },
  {
   "cell_type": "code",
   "execution_count": 6,
   "id": "d90b9d8c-8b27-4826-8c79-bca679e1428d",
   "metadata": {},
   "outputs": [],
   "source": [
    "# 리스트요소 끄집어 내기 - pop\n",
    "a = [1,2,3]"
   ]
  },
  {
   "cell_type": "code",
   "execution_count": 7,
   "id": "fc42ae27-e3af-460d-aad2-ceab3df2fd4b",
   "metadata": {},
   "outputs": [
    {
     "name": "stdout",
     "output_type": "stream",
     "text": [
      "[1, 2]\n",
      "받은거 3\n"
     ]
    }
   ],
   "source": [
    "hand = a.pop() # 리턴값을 받음\n",
    "print(a)\n",
    "print('받은거',hand)"
   ]
  },
  {
   "cell_type": "code",
   "execution_count": 13,
   "id": "cb187447-2e43-4d46-a79a-b2b9e58ac535",
   "metadata": {},
   "outputs": [
    {
     "name": "stdout",
     "output_type": "stream",
     "text": [
      "2\n",
      "3\n"
     ]
    }
   ],
   "source": [
    "# 리스트에 포함된 요소 x의 개수 세기 - count\n",
    "st = '안녕하세요 반가워요'\n",
    "print(st.count('요'))\n",
    "a = [1,2,3,4,5,2,3,4,5,2,7]\n",
    "print(a.count(2))"
   ]
  },
  {
   "cell_type": "code",
   "execution_count": 16,
   "id": "ad98271e-209e-47b1-9aa2-01c378c29fc0",
   "metadata": {},
   "outputs": [
    {
     "name": "stdout",
     "output_type": "stream",
     "text": [
      "[1, 2, 3, 4, 5]\n",
      "[11, 22, 33, 44, 55, 66]\n"
     ]
    }
   ],
   "source": [
    "# 리스트 확장\n",
    "a = [1,2,3]\n",
    "a.extend([4,5])\n",
    "print(a)\n",
    "b = [11,22,33]\n",
    "c = [44,55,66]\n",
    "print(b+c)"
   ]
  },
  {
   "cell_type": "code",
   "execution_count": null,
   "id": "1dc595ab-224c-4a04-ba63-699f7158ca17",
   "metadata": {},
   "outputs": [],
   "source": [
    "# 장바구니\n",
    "bag = []"
   ]
  },
  {
   "cell_type": "code",
   "execution_count": 27,
   "id": "405f8361-51ec-4e22-bf57-75a7ff8f4c2d",
   "metadata": {},
   "outputs": [
    {
     "name": "stdin",
     "output_type": "stream",
     "text": [
      "필요한 항목을 넣어주세요. 호박, 소주, 감자, 맥주\n"
     ]
    },
    {
     "name": "stdout",
     "output_type": "stream",
     "text": [
      "장바구니에는 ['맥주', '호박, 소주, 감자, 맥주']들이 있습니다.\n"
     ]
    }
   ],
   "source": [
    "# Create 생성\n",
    "inp = input('필요한 항목을 넣어주세요.')\n",
    "bag.append(inp)\n",
    "print(f'장바구니에는 {bag}들이 있습니다.')"
   ]
  },
  {
   "cell_type": "code",
   "execution_count": 28,
   "id": "5d2e9203-d550-4194-b4df-5b1f882931ef",
   "metadata": {},
   "outputs": [
    {
     "name": "stdout",
     "output_type": "stream",
     "text": [
      "3을 꺼내서 장바구니에 ['호박, 소주, 감자, 맥주']가 남았습니다\n"
     ]
    }
   ],
   "source": [
    "# FIFO출력(큐 출력)\n",
    "bag.pop(0)\n",
    "print(f'{hand}을 꺼내서 장바구니에 {bag}가 남았습니다')"
   ]
  },
  {
   "cell_type": "code",
   "execution_count": 35,
   "id": "74136ece-2e3a-459b-aa7f-dc052252ba44",
   "metadata": {},
   "outputs": [
    {
     "name": "stdout",
     "output_type": "stream",
     "text": [
      "바구니에 ['호박', '감자', '소주', '맥주', '피자'] 물품이 있습니다.\n"
     ]
    },
    {
     "name": "stdin",
     "output_type": "stream",
     "text": [
      "꺼내고 싶은 물품을 입력하세요. 소주\n"
     ]
    },
    {
     "name": "stdout",
     "output_type": "stream",
     "text": [
      "장바구니에서 소주 꺼내서 ['호박', '감자', '맥주', '피자']이 남았습니다\n"
     ]
    }
   ],
   "source": [
    "# 선택 출력\n",
    "bag = ['호박', '감자', '소주', '맥주', '피자']\n",
    "print(f'바구니에 {bag} 물품이 있습니다.')\n",
    "bring = input('꺼내고 싶은 물품을 입력하세요.')\n",
    "hand2 = bag.pop(bag.index(bring))\n",
    "print(f'장바구니에서 {hand2} 꺼내서 {bag}이 남았습니다')"
   ]
  },
  {
   "cell_type": "code",
   "execution_count": 33,
   "id": "e425e1db-8935-4df1-99c4-551d1f7a5efc",
   "metadata": {},
   "outputs": [
    {
     "name": "stdout",
     "output_type": "stream",
     "text": [
      "33을(를) 제거 하였습니다.\n"
     ]
    }
   ],
   "source": [
    "# 테스트 remove는 리턴값이 없다.\n",
    "choice = 33\n",
    "a = [11,22,33,44,55,66]\n",
    "a.remove(choice)\n",
    "print(f'{choice}을(를) 제거 하였습니다.')"
   ]
  },
  {
   "cell_type": "code",
   "execution_count": 37,
   "id": "c825b6e3-5381-4604-add7-ddef029e249b",
   "metadata": {},
   "outputs": [
    {
     "name": "stdin",
     "output_type": "stream",
     "text": [
      "추가할 물건 이름을 적어주세요. 바나나\n",
      "어느 물품의 뒤에 넣어둘까요? 맥주\n"
     ]
    }
   ],
   "source": [
    "# 실습\n",
    "bag = ['호박', '감자', '소주', '맥주', '피자']\n",
    "# 물품 하나를 추가하기. 단, 지정한 물품 바로 뒤에 추가하기\n",
    "test1 = input('추가할 물건 이름을 적어주세요.')\n",
    "test2 = input('어느 물품의 뒤에 넣어둘까요?')"
   ]
  },
  {
   "cell_type": "code",
   "execution_count": 39,
   "id": "ceb8c9c5-af20-4679-9fd8-daeeea6a314f",
   "metadata": {},
   "outputs": [
    {
     "name": "stdin",
     "output_type": "stream",
     "text": [
      "추가할 물건 이름을 적어주세요. 치즈\n",
      "어느 물품의 뒤에 넣어둘까요? 맥주\n"
     ]
    },
    {
     "name": "stdout",
     "output_type": "stream",
     "text": [
      "['호박', '감자', '소주', '맥주', '치즈', '피자']\n"
     ]
    }
   ],
   "source": [
    "bag = ['호박', '감자', '소주', '맥주', '피자']\n",
    "thing = input('추가할 물건 이름을 적어주세요.')\n",
    "where = input('어느 물품의 뒤에 넣어둘까요?')\n",
    "위치 = bag.index(where)+ 1\n",
    "bag.insert(위치,thing)\n",
    "print(bag)"
   ]
  },
  {
   "cell_type": "code",
   "execution_count": 18,
   "id": "5185fb04-1167-4712-99e8-bbcbb1ec6219",
   "metadata": {},
   "outputs": [
    {
     "name": "stdin",
     "output_type": "stream",
     "text": [
      "내가 누구게? 숫자를 입력하세요. 4\n"
     ]
    },
    {
     "name": "stdout",
     "output_type": "stream",
     "text": [
      "8 <class 'int'>\n"
     ]
    }
   ],
   "source": [
    "# 테스트\n",
    "num = int(input('내가 누구게? 숫자를 입력하세요.'))\n",
    "print(num + 4 , type(num))"
   ]
  },
  {
   "cell_type": "code",
   "execution_count": null,
   "id": "cbe39f64-a272-4c27-bb61-0313c61da900",
   "metadata": {},
   "outputs": [],
   "source": [
    "# 선입선출 FIFO - Queue 큐\n",
    "\n",
    "# 후입선출 LIFO - stack 스택"
   ]
  },
  {
   "cell_type": "code",
   "execution_count": 17,
   "id": "1b6d98e6-1fee-47a6-b677-9b809dbfbadb",
   "metadata": {},
   "outputs": [
    {
     "name": "stdin",
     "output_type": "stream",
     "text": [
      "원화로 계산할 달러를 입력하세요. 100\n"
     ]
    },
    {
     "name": "stdout",
     "output_type": "stream",
     "text": [
      "1달러는 1450원 이므로\n",
      "요청하신 100달러 변환값은 145000원 입니다.\n"
     ]
    }
   ],
   "source": [
    "# 환율 계산기 만들기\n",
    "exc = 1450\n",
    "dollar = int(input('원화로 계산할 달러를 입력하세요.'))\n",
    "won = dollar * exc\n",
    "print(f'1달러는 {exc}원 이므로\\n요청하신 {dollar}달러 변환값은 {won}원 입니다.')"
   ]
  },
  {
   "cell_type": "code",
   "execution_count": 5,
   "id": "a4928353-b536-46c3-968f-a76d1c4ea3cc",
   "metadata": {},
   "outputs": [
    {
     "name": "stdout",
     "output_type": "stream",
     "text": [
      "[{'result': 1, 'cur_unit': 'AED', 'ttb': '393.73', 'tts': '401.68', 'deal_bas_r': '397.71', 'bkpr': '397', 'yy_efee_r': '0', 'ten_dd_efee_r': '0', 'kftc_bkpr': '397', 'kftc_deal_bas_r': '397.71', 'cur_nm': '아랍에미리트 디르함'}, {'result': 1, 'cur_unit': 'AUD', 'ttb': '904.23', 'tts': '922.5', 'deal_bas_r': '913.37', 'bkpr': '913', 'yy_efee_r': '0', 'ten_dd_efee_r': '0', 'kftc_bkpr': '913', 'kftc_deal_bas_r': '913.37', 'cur_nm': '호주 달러'}, {'result': 1, 'cur_unit': 'BHD', 'ttb': '3,835.95', 'tts': '3,913.44', 'deal_bas_r': '3,874.7', 'bkpr': '3,874', 'yy_efee_r': '0', 'ten_dd_efee_r': '0', 'kftc_bkpr': '3,874', 'kftc_deal_bas_r': '3,874.7', 'cur_nm': '바레인 디나르'}, {'result': 1, 'cur_unit': 'BND', 'ttb': '1,069.19', 'tts': '1,090.78', 'deal_bas_r': '1,079.99', 'bkpr': '1,079', 'yy_efee_r': '0', 'ten_dd_efee_r': '0', 'kftc_bkpr': '1,079', 'kftc_deal_bas_r': '1,079.99', 'cur_nm': '브루나이 달러'}, {'result': 1, 'cur_unit': 'CAD', 'ttb': '1,009.38', 'tts': '1,029.77', 'deal_bas_r': '1,019.58', 'bkpr': '1,019', 'yy_efee_r': '0', 'ten_dd_efee_r': '0', 'kftc_bkpr': '1,019', 'kftc_deal_bas_r': '1,019.58', 'cur_nm': '캐나다 달러'}, {'result': 1, 'cur_unit': 'CHF', 'ttb': '1,597.47', 'tts': '1,629.74', 'deal_bas_r': '1,613.61', 'bkpr': '1,613', 'yy_efee_r': '0', 'ten_dd_efee_r': '0', 'kftc_bkpr': '1,613', 'kftc_deal_bas_r': '1,613.61', 'cur_nm': '스위스 프랑'}, {'result': 1, 'cur_unit': 'CNH', 'ttb': '197.73', 'tts': '201.72', 'deal_bas_r': '199.73', 'bkpr': '199', 'yy_efee_r': '0', 'ten_dd_efee_r': '0', 'kftc_bkpr': '199', 'kftc_deal_bas_r': '199.73', 'cur_nm': '위안화'}, {'result': 1, 'cur_unit': 'DKK', 'ttb': '201.18', 'tts': '205.25', 'deal_bas_r': '203.22', 'bkpr': '203', 'yy_efee_r': '0', 'ten_dd_efee_r': '0', 'kftc_bkpr': '203', 'kftc_deal_bas_r': '203.22', 'cur_nm': '덴마아크 크로네'}, {'result': 1, 'cur_unit': 'EUR', 'ttb': '1,500.64', 'tts': '1,530.95', 'deal_bas_r': '1,515.8', 'bkpr': '1,515', 'yy_efee_r': '0', 'ten_dd_efee_r': '0', 'kftc_bkpr': '1,515', 'kftc_deal_bas_r': '1,515.8', 'cur_nm': '유로'}, {'result': 1, 'cur_unit': 'GBP', 'ttb': '1,804.7', 'tts': '1,841.15', 'deal_bas_r': '1,822.93', 'bkpr': '1,822', 'yy_efee_r': '0', 'ten_dd_efee_r': '0', 'kftc_bkpr': '1,822', 'kftc_deal_bas_r': '1,822.93', 'cur_nm': '영국 파운드'}, {'result': 1, 'cur_unit': 'HKD', 'ttb': '185.71', 'tts': '189.46', 'deal_bas_r': '187.59', 'bkpr': '187', 'yy_efee_r': '0', 'ten_dd_efee_r': '0', 'kftc_bkpr': '187', 'kftc_deal_bas_r': '187.59', 'cur_nm': '홍콩 달러'}, {'result': 1, 'cur_unit': 'IDR(100)', 'ttb': '8.85', 'tts': '9.02', 'deal_bas_r': '8.94', 'bkpr': '8', 'yy_efee_r': '0', 'ten_dd_efee_r': '0', 'kftc_bkpr': '8', 'kftc_deal_bas_r': '8.94', 'cur_nm': '인도네시아 루피아'}, {'result': 1, 'cur_unit': 'JPY(100)', 'ttb': '936.61', 'tts': '955.54', 'deal_bas_r': '946.08', 'bkpr': '946', 'yy_efee_r': '0', 'ten_dd_efee_r': '0', 'kftc_bkpr': '946', 'kftc_deal_bas_r': '946.08', 'cur_nm': '일본 옌'}, {'result': 1, 'cur_unit': 'KRW', 'ttb': '0', 'tts': '0', 'deal_bas_r': '1', 'bkpr': '1', 'yy_efee_r': '0', 'ten_dd_efee_r': '0', 'kftc_bkpr': '1', 'kftc_deal_bas_r': '1', 'cur_nm': '한국 원'}, {'result': 1, 'cur_unit': 'KWD', 'ttb': '4,686.3', 'tts': '4,780.97', 'deal_bas_r': '4,733.64', 'bkpr': '4,733', 'yy_efee_r': '0', 'ten_dd_efee_r': '0', 'kftc_bkpr': '4,733', 'kftc_deal_bas_r': '4,733.64', 'cur_nm': '쿠웨이트 디나르'}, {'result': 1, 'cur_unit': 'MYR', 'ttb': '325.42', 'tts': '331.99', 'deal_bas_r': '328.71', 'bkpr': '328', 'yy_efee_r': '0', 'ten_dd_efee_r': '0', 'kftc_bkpr': '328', 'kftc_deal_bas_r': '328.71', 'cur_nm': '말레이지아 링기트'}, {'result': 1, 'cur_unit': 'NOK', 'ttb': '128.58', 'tts': '131.17', 'deal_bas_r': '129.88', 'bkpr': '129', 'yy_efee_r': '0', 'ten_dd_efee_r': '0', 'kftc_bkpr': '129', 'kftc_deal_bas_r': '129.88', 'cur_nm': '노르웨이 크로네'}, {'result': 1, 'cur_unit': 'NZD', 'ttb': '817.02', 'tts': '833.53', 'deal_bas_r': '825.28', 'bkpr': '825', 'yy_efee_r': '0', 'ten_dd_efee_r': '0', 'kftc_bkpr': '825', 'kftc_deal_bas_r': '825.28', 'cur_nm': '뉴질랜드 달러'}, {'result': 1, 'cur_unit': 'SAR', 'ttb': '385.58', 'tts': '393.37', 'deal_bas_r': '389.48', 'bkpr': '389', 'yy_efee_r': '0', 'ten_dd_efee_r': '0', 'kftc_bkpr': '389', 'kftc_deal_bas_r': '389.48', 'cur_nm': '사우디 리얄'}, {'result': 1, 'cur_unit': 'SEK', 'ttb': '131.78', 'tts': '134.45', 'deal_bas_r': '133.12', 'bkpr': '133', 'yy_efee_r': '0', 'ten_dd_efee_r': '0', 'kftc_bkpr': '133', 'kftc_deal_bas_r': '133.12', 'cur_nm': '스웨덴 크로나'}, {'result': 1, 'cur_unit': 'SGD', 'ttb': '1,069.19', 'tts': '1,090.78', 'deal_bas_r': '1,079.99', 'bkpr': '1,079', 'yy_efee_r': '0', 'ten_dd_efee_r': '0', 'kftc_bkpr': '1,079', 'kftc_deal_bas_r': '1,079.99', 'cur_nm': '싱가포르 달러'}, {'result': 1, 'cur_unit': 'THB', 'ttb': '42.98', 'tts': '43.85', 'deal_bas_r': '43.42', 'bkpr': '43', 'yy_efee_r': '0', 'ten_dd_efee_r': '0', 'kftc_bkpr': '43', 'kftc_deal_bas_r': '43.42', 'cur_nm': '태국 바트'}, {'result': 1, 'cur_unit': 'USD', 'ttb': '1,446.19', 'tts': '1,475.4', 'deal_bas_r': '1,460.8', 'bkpr': '1,460', 'yy_efee_r': '0', 'ten_dd_efee_r': '0', 'kftc_bkpr': '1,460', 'kftc_deal_bas_r': '1,460.8', 'cur_nm': '미국 달러'}] <class 'list'>\n"
     ]
    },
    {
     "data": {
      "text/plain": [
       "{'result': 1,\n",
       " 'cur_unit': 'USD',\n",
       " 'ttb': '1,446.19',\n",
       " 'tts': '1,475.4',\n",
       " 'deal_bas_r': '1,460.8',\n",
       " 'bkpr': '1,460',\n",
       " 'yy_efee_r': '0',\n",
       " 'ten_dd_efee_r': '0',\n",
       " 'kftc_bkpr': '1,460',\n",
       " 'kftc_deal_bas_r': '1,460.8',\n",
       " 'cur_nm': '미국 달러'}"
      ]
     },
     "execution_count": 5,
     "metadata": {},
     "output_type": "execute_result"
    }
   ],
   "source": [
    "import requests\n",
    "import json\n",
    "url = 'https://www.koreaexim.go.kr/site/program/financial/exchangeJSON?authkey=YgDxiUINVVfrEFiCtdhpQHMOJWCXnfNm&data=AP01'\n",
    "res = requests.get(url).text\n",
    "data = json.loads(res)\n",
    "print(data,type(data))\n",
    "data[-1]"
   ]
  },
  {
   "cell_type": "code",
   "execution_count": 6,
   "id": "f2485aa2-293d-467e-83e6-51b9698f524e",
   "metadata": {},
   "outputs": [
    {
     "name": "stdout",
     "output_type": "stream",
     "text": [
      "<class 'list'>\n",
      "None <class 'NoneType'>\n"
     ]
    }
   ],
   "source": [
    "import requests\n",
    "import json\n",
    "url = 'https://www.koreaexim.go.kr/site/program/financial/exchangeJSON?authkey=AUTHKEY1234567890&data=AP01'\n",
    "res = requests.get(url).text\n",
    "data = json.loads(res)\n",
    "print(type(data))\n",
    "result = data[-1]['deal_bas_r']\n",
    "print(result,type(result))"
   ]
  },
  {
   "cell_type": "markdown",
   "id": "0493e459-2358-405f-b962-3ac2a31fb694",
   "metadata": {},
   "source": [
    "## 튜플 자료형"
   ]
  },
  {
   "cell_type": "code",
   "execution_count": null,
   "id": "a60c0929-7603-44b4-ab5e-f4352d72022c",
   "metadata": {},
   "outputs": [],
   "source": []
  },
  {
   "cell_type": "markdown",
   "id": "9e303de4-bbd2-4544-991c-9d7196999218",
   "metadata": {},
   "source": [
    "## 딕셔너리 자료형"
   ]
  },
  {
   "cell_type": "code",
   "execution_count": 11,
   "id": "85cbdb22-1a1e-4b74-a05b-7d94c47c420a",
   "metadata": {},
   "outputs": [],
   "source": [
    "dic = {'name': 'pey', 'phone': '010-9999-1234', 'birth': '1118'}"
   ]
  },
  {
   "cell_type": "code",
   "execution_count": 13,
   "id": "09e5a279-ef9f-4542-82b9-46a0ba329fd5",
   "metadata": {},
   "outputs": [
    {
     "name": "stdout",
     "output_type": "stream",
     "text": [
      "pey\n",
      "010-9999-1234\n",
      "1118\n"
     ]
    }
   ],
   "source": [
    "print(dic['name'])\n",
    "print(dic['phone'])\n",
    "print(dic['birth'])"
   ]
  },
  {
   "cell_type": "code",
   "execution_count": 14,
   "id": "bab84c3e-5dc6-4544-ae94-4bc2bfb23d5d",
   "metadata": {},
   "outputs": [
    {
     "name": "stdout",
     "output_type": "stream",
     "text": [
      "11\n",
      "11\n",
      "11\n"
     ]
    }
   ],
   "source": [
    "al = [11,22,33,44,55]\n",
    "at = 11,22,33,44,55\n",
    "ad = {0:11,1:22,2:33,3:44,4:55}\n",
    "print(al[0])\n",
    "print(at[0])\n",
    "print(ad[0])"
   ]
  },
  {
   "cell_type": "code",
   "execution_count": 15,
   "id": "6ba8201d-e477-4cd5-8441-9685cc6ab681",
   "metadata": {},
   "outputs": [
    {
     "name": "stdout",
     "output_type": "stream",
     "text": [
      "1\n",
      "1\n",
      "1\n",
      "1\n",
      "1\n",
      "==========\n",
      "11\n",
      "22\n",
      "33\n",
      "44\n",
      "55\n"
     ]
    }
   ],
   "source": [
    "# test\n",
    "for l in al :\n",
    "    print(1)\n",
    "print('='*10)\n",
    "for t in at:\n",
    "    print(t)"
   ]
  },
  {
   "cell_type": "code",
   "execution_count": 16,
   "id": "22844ad2-1311-4c91-879f-3b5d98bfb12f",
   "metadata": {},
   "outputs": [
    {
     "name": "stdout",
     "output_type": "stream",
     "text": [
      "[1, 2, 3, 4, 5]\n"
     ]
    }
   ],
   "source": [
    "a = {'aa' : [1,2,3,4,5]}\n",
    "print(a['aa'])"
   ]
  },
  {
   "cell_type": "markdown",
   "id": "66499213-15cf-4334-ab4c-398b0a5ea875",
   "metadata": {},
   "source": [
    "### 딕셔너리 쌍 추가, 삭제하기"
   ]
  },
  {
   "cell_type": "code",
   "execution_count": 12,
   "id": "b6966b70-efc3-4fe2-b6e5-f24a570533b2",
   "metadata": {},
   "outputs": [
    {
     "name": "stdout",
     "output_type": "stream",
     "text": [
      "{'name': 'pey', 'phone': '010-9999-1234', 'birth': '1118', 'address': 'busan'}\n"
     ]
    }
   ],
   "source": [
    "dic = {'name': 'pey', 'phone': '010-9999-1234', 'birth': '1118'}\n",
    "dic['address'] = 'busan'\n",
    "print(dic)"
   ]
  }
 ],
 "metadata": {
  "kernelspec": {
   "display_name": "Python 3 (ipykernel)",
   "language": "python",
   "name": "python3"
  },
  "language_info": {
   "codemirror_mode": {
    "name": "ipython",
    "version": 3
   },
   "file_extension": ".py",
   "mimetype": "text/x-python",
   "name": "python",
   "nbconvert_exporter": "python",
   "pygments_lexer": "ipython3",
   "version": "3.13.1"
  }
 },
 "nbformat": 4,
 "nbformat_minor": 5
}
