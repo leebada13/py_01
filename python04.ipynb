{
 "cells": [
  {
   "cell_type": "markdown",
   "id": "e3389f67-b060-4cff-a2db-65c54a125aa9",
   "metadata": {},
   "source": [
    "# 함수"
   ]
  },
  {
   "cell_type": "code",
   "execution_count": 2,
   "id": "8108dd78-6028-41f2-8df1-b21c1d1c7f26",
   "metadata": {},
   "outputs": [],
   "source": [
    "def 덧셈(a,b):\n",
    "    return a + b"
   ]
  },
  {
   "cell_type": "code",
   "execution_count": 3,
   "id": "c543a3f2-486b-4f8e-af04-f38eec3cb9e2",
   "metadata": {},
   "outputs": [
    {
     "name": "stdout",
     "output_type": "stream",
     "text": [
      "7\n"
     ]
    }
   ],
   "source": [
    "c = (덧셈(3,4))\n",
    "print(c)"
   ]
  },
  {
   "cell_type": "code",
   "execution_count": 6,
   "id": "ce24be7f-a3d0-4f48-a938-7ceeb9f2bf3f",
   "metadata": {},
   "outputs": [
    {
     "name": "stdout",
     "output_type": "stream",
     "text": [
      "[10, 20, 27, 29, 46, 52, 57, 59, 85, 91] 10\n"
     ]
    }
   ],
   "source": [
    "import random\n",
    "def 로또(파라미터=6,매개변수=46):\n",
    "    box = []\n",
    "    while len(box) < 파라미터:\n",
    "        ran = random.randint(1,매개변수)\n",
    "        if not ran in box:\n",
    "            box.append(ran)\n",
    "    box.sort()\n",
    "    print(box,len(box))\n",
    "로또(10,100)"
   ]
  },
  {
   "cell_type": "code",
   "execution_count": 7,
   "id": "0ba4e041-7d40-424f-93ee-9777b7ca0666",
   "metadata": {},
   "outputs": [
    {
     "name": "stdout",
     "output_type": "stream",
     "text": [
      "[1, 7, 15, 32, 36, 43] 6\n",
      "[7, 11, 23, 29, 30, 35] 6\n",
      "[2, 10, 25, 35, 40, 45] 6\n",
      "[5, 6, 7, 18, 21, 41] 6\n",
      "[15, 20, 21, 24, 34, 40] 6\n"
     ]
    }
   ],
   "source": [
    "# 참고용 3\n",
    "for n in range(5) :\n",
    "    로또()"
   ]
  },
  {
   "cell_type": "code",
   "execution_count": 9,
   "id": "2fa2a83c-0848-49c3-a22c-5b5cf82b9b5a",
   "metadata": {},
   "outputs": [
    {
     "name": "stdout",
     "output_type": "stream",
     "text": [
      "====2단====\n",
      "2 x 1 = 2\n",
      "2 x 2 = 4\n",
      "2 x 3 = 6\n",
      "2 x 4 = 8\n",
      "2 x 5 = 10\n",
      "2 x 6 = 12\n",
      "2 x 7 = 14\n",
      "2 x 8 = 16\n",
      "2 x 9 = 18\n",
      "====3단====\n",
      "3 x 1 = 3\n",
      "3 x 2 = 6\n",
      "3 x 3 = 9\n",
      "3 x 4 = 12\n",
      "3 x 5 = 15\n",
      "3 x 6 = 18\n",
      "3 x 7 = 21\n",
      "3 x 8 = 24\n",
      "3 x 9 = 27\n",
      "====4단====\n",
      "4 x 1 = 4\n",
      "4 x 2 = 8\n",
      "4 x 3 = 12\n",
      "4 x 4 = 16\n",
      "4 x 5 = 20\n",
      "4 x 6 = 24\n",
      "4 x 7 = 28\n",
      "4 x 8 = 32\n",
      "4 x 9 = 36\n",
      "====5단====\n",
      "5 x 1 = 5\n",
      "5 x 2 = 10\n",
      "5 x 3 = 15\n",
      "5 x 4 = 20\n",
      "5 x 5 = 25\n",
      "5 x 6 = 30\n",
      "5 x 7 = 35\n",
      "5 x 8 = 40\n",
      "5 x 9 = 45\n"
     ]
    }
   ],
   "source": [
    "def gugu (end):\n",
    "    for j in range(2,end + 1):\n",
    "        print(f\"{str(j)+'단':=^10}\")\n",
    "        for i in range(1,10):\n",
    "            print(f'{j} x {i} = {j*i}')\n",
    "gugu(5)  "
   ]
  },
  {
   "cell_type": "code",
   "execution_count": 11,
   "id": "de562ad0-3543-4c8f-b9e1-227cfff7c879",
   "metadata": {},
   "outputs": [
    {
     "name": "stdout",
     "output_type": "stream",
     "text": [
      "====2단====\n",
      "2 x 1 = 2\n",
      "2 x 2 = 4\n",
      "2 x 3 = 6\n",
      "2 x 4 = 8\n",
      "2 x 5 = 10\n",
      "2 x 6 = 12\n",
      "2 x 7 = 14\n",
      "2 x 8 = 16\n",
      "2 x 9 = 18\n",
      "\n"
     ]
    }
   ],
   "source": [
    "def gugu (end = 9):\n",
    "    data = ''\n",
    "    for j in range(2,end + 1):\n",
    "        print(f\"{str(j)+'단':=^10}\")\n",
    "        for i in range(1,10):\n",
    "            data += (f'{j} x {i} = {j*i}') + '\\n'\n",
    "        return data\n",
    "print(gugu(2))  "
   ]
  },
  {
   "cell_type": "markdown",
   "id": "8e6adc2a-b0fb-4c49-aba9-5aa79072c971",
   "metadata": {},
   "source": [
    "## 입력값과 리턴값에 따른 함수"
   ]
  },
  {
   "cell_type": "code",
   "execution_count": 12,
   "id": "0f789a45-7f9e-42cd-8d89-fda9f4457f91",
   "metadata": {},
   "outputs": [],
   "source": [
    "# 입력값과 리턴값이 없는 함수\n",
    "def say ():\n",
    "    print(\"안녕!\")\n",
    "    print(\"전 입력값과 리턴값이 없어요.\")\n",
    "    print(\"빠이~\")"
   ]
  },
  {
   "cell_type": "code",
   "execution_count": 13,
   "id": "ad70a0e5-c9da-45b0-8503-0111b4611bad",
   "metadata": {},
   "outputs": [
    {
     "name": "stdout",
     "output_type": "stream",
     "text": [
      "안녕!\n",
      "전 입력값과 리턴값이 없어요.\n",
      "빠이~\n"
     ]
    }
   ],
   "source": [
    "say()"
   ]
  },
  {
   "cell_type": "code",
   "execution_count": 27,
   "id": "3b1012c8-fdb3-4441-99e5-a6e301535236",
   "metadata": {},
   "outputs": [],
   "source": [
    "# 데스트\n",
    "import time as t\n",
    "def disp():\n",
    "    print(\"안녕!\\r\", end =\"\")\n",
    "    t.sleep(2)\n",
    "    print(\"전 입력값과 리턴값이 없어요.\\r\",end=\"\")\n",
    "    t.sleep(2)"
   ]
  },
  {
   "cell_type": "code",
   "execution_count": 19,
   "id": "304f140e-7d05-4bad-834b-ca004d4beebf",
   "metadata": {},
   "outputs": [],
   "source": [
    "# !pip install matplotlib"
   ]
  },
  {
   "cell_type": "code",
   "execution_count": 29,
   "id": "3411e956-b947-4698-9cca-ce1e9cccecbb",
   "metadata": {},
   "outputs": [],
   "source": [
    "# 테스트 :함수 random 주사위\n",
    "import random as r\n",
    "import matplotlib.pyplot as plt\n",
    "def dice(target = 250000 ) :\n",
    "    box = [] # 초기화\n",
    "    num = 0\n",
    "    results = {}\n",
    "    while num < target :\n",
    "        num = num + 1\n",
    "        ran = r.randint(1,6)\n",
    "        box.append(ran)\n",
    "    if target == len(box):\n",
    "        print(f\"{target}회 정상 진행되었습니다.\")\n",
    "    else:\n",
    "        print(f\"검증결과 횟수 이상이 있습니다. 이유:({target}회 목표로 동작하였으나,{len(box)}으로 측정되었습니다.)\")\n",
    "    for n in range(1,7):\n",
    "        results[n] = box.count(n)\n",
    "        print(f\"{n}이{box.count(n)}번({(box.count(n)/len(box))*100:2f}%) 나왔다.\")\n",
    "    print(results)\n",
    "    color = [\"skyblue\",\"orange\",]\n",
    "    plt.bar(results.keys(),results.values())\n",
    "    plt.show()"
   ]
  },
  {
   "cell_type": "code",
   "execution_count": 30,
   "id": "3dd56d7b-dd67-48bb-8869-872429193d2d",
   "metadata": {},
   "outputs": [
    {
     "name": "stdout",
     "output_type": "stream",
     "text": [
      "250000회 정상 진행되었습니다.\n",
      "1이41575번(16.630000%) 나왔다.\n",
      "2이41788번(16.715200%) 나왔다.\n",
      "3이41352번(16.540800%) 나왔다.\n",
      "4이41801번(16.720400%) 나왔다.\n",
      "5이41387번(16.554800%) 나왔다.\n",
      "6이42097번(16.838800%) 나왔다.\n",
      "{1: 41575, 2: 41788, 3: 41352, 4: 41801, 5: 41387, 6: 42097}\n"
     ]
    },
    {
     "data": {
      "image/png": "[encoded data removed]",
      "text/plain": [
       "<Figure size 640x480 with 1 Axes>"
      ]
     },
     "metadata": {},
     "output_type": "display_data"
    }
   ],
   "source": [
    "dice()\n",
    "# plt.bar(range(1,6),)"
   ]
  },
  {
   "cell_type": "code",
   "execution_count": 36,
   "id": "0943d359-9442-431e-9dca-1e8f0b20320e",
   "metadata": {},
   "outputs": [],
   "source": [
    "# 여러개의 입력값을 받는 함수 만들기\n",
    "def add_many(*args): # 별 안넣으면\n",
    "    result = 0\n",
    "    for i in args :\n",
    "        result = result + i\n",
    "    return result"
   ]
  },
  {
   "cell_type": "code",
   "execution_count": 40,
   "id": "6af13f4a-4c46-4cb7-a0dd-d10a335663c1",
   "metadata": {},
   "outputs": [
    {
     "name": "stdout",
     "output_type": "stream",
     "text": [
      "14\n"
     ]
    }
   ],
   "source": [
    "res = add_many(1,4,3,1,5) # 괄호 한 번더 쳐주기\n",
    "print(res)"
   ]
  },
  {
   "cell_type": "code",
   "execution_count": 45,
   "id": "ef7cee24-fdb7-4d51-8825-3541ae523b76",
   "metadata": {},
   "outputs": [
    {
     "ename": "IndentationError",
     "evalue": "unindent does not match any outer indentation level (<string>, line 14)",
     "output_type": "error",
     "traceback": [
      "\u001b[1;36m  File \u001b[1;32m<string>:14\u001b[1;36m\u001b[0m\n\u001b[1;33m    elif choice == \"div\":\u001b[0m\n\u001b[1;37m                         ^\u001b[0m\n\u001b[1;31mIndentationError\u001b[0m\u001b[1;31m:\u001b[0m unindent does not match any outer indentation level\n"
     ]
    }
   ],
   "source": [
    "def add_mul(choice, *args):\n",
    "    if choice ==\"add\":\n",
    "        result = 0\n",
    "        for i in args:\n",
    "            result = result + i\n",
    "    elif choice == \"sub\":\n",
    "        result = 0\n",
    "        for i in args:\n",
    "            result = result - i\n",
    "    elif choice == \"mul\":\n",
    "        result = 1\n",
    "        for i in args:\n",
    "            result = result * i\n",
    "     elif choice == \"div\":\n",
    "        result = 1\n",
    "        for i in args:\n",
    "            result = result / i\n",
    "    else:\n",
    "        result = choice\n",
    "        print(\"정확하게 입력하세요\")\n",
    "    return result"
   ]
  },
  {
   "cell_type": "code",
   "execution_count": 43,
   "id": "a9262cae-3a72-4502-8276-0f2357707c3c",
   "metadata": {},
   "outputs": [
    {
     "ename": "NameError",
     "evalue": "name 'add_mul' is not defined",
     "output_type": "error",
     "traceback": [
      "\u001b[1;31m---------------------------------------------------------------------------\u001b[0m",
      "\u001b[1;31mNameError\u001b[0m                                 Traceback (most recent call last)",
      "Cell \u001b[1;32mIn[43], line 1\u001b[0m\n\u001b[1;32m----> 1\u001b[0m \u001b[43madd_mul\u001b[49m(\u001b[38;5;124m'\u001b[39m\u001b[38;5;124mdiv\u001b[39m\u001b[38;5;124m'\u001b[39m,\u001b[38;5;241m3\u001b[39m,\u001b[38;5;241m1\u001b[39m)\n",
      "\u001b[1;31mNameError\u001b[0m: name 'add_mul' is not defined"
     ]
    }
   ],
   "source": [
    "add_mul('div',3,1)"
   ]
  },
  {
   "cell_type": "code",
   "execution_count": 47,
   "id": "d8ff393f-8ce9-462a-b936-16ee6d2cb9a0",
   "metadata": {},
   "outputs": [
    {
     "name": "stdout",
     "output_type": "stream",
     "text": [
      "{'name': '홍길동', 'age': 21, 'address': '대한민국'}\n"
     ]
    }
   ],
   "source": [
    "# 키워드 매개변수 kwargs\n",
    "def print_kwargs(kwargs):\n",
    "    print(kwargs)\n",
    "print_kwargs({'name':'홍길동','age':21,'address':'대한민국'})"
   ]
  },
  {
   "cell_type": "code",
   "execution_count": 48,
   "id": "da198d43-54f6-49fa-ae72-32878fc3e25d",
   "metadata": {},
   "outputs": [],
   "source": [
    "# test\n",
    "def test():\n",
    "    print('저야 영광이죠!')\n",
    "    if 13 > 4 : return\n",
    "    print('집에 가고싶어!')\n",
    "    return"
   ]
  },
  {
   "cell_type": "code",
   "execution_count": 49,
   "id": "1f7fa8f3-b63c-43df-893b-269a17b6dfa5",
   "metadata": {},
   "outputs": [
    {
     "name": "stdout",
     "output_type": "stream",
     "text": [
      "저야 영광이죠!\n"
     ]
    }
   ],
   "source": [
    "test()"
   ]
  },
  {
   "cell_type": "code",
   "execution_count": 50,
   "id": "96e4a639-9a09-4b9c-b450-83df16fac544",
   "metadata": {},
   "outputs": [
    {
     "name": "stdout",
     "output_type": "stream",
     "text": [
      "35 286\n"
     ]
    }
   ],
   "source": [
    "# test2\n",
    "def test2(a,b):\n",
    "    return (a+b, a*b)\n",
    "add_result, mul_result = test2(13,22)\n",
    "print(add_result, mul_result)"
   ]
  },
  {
   "cell_type": "code",
   "execution_count": 51,
   "id": "c56d07c4-3ff8-4d46-bec0-f2167f03d3bb",
   "metadata": {},
   "outputs": [],
   "source": [
    "# return의 또 다른 쓰임새\n",
    "def say_nick(nick):\n",
    "    if nick == \"바보\":\n",
    "        return\n",
    "    print('나의 별명은 %s입니다.' % nick)\n"
   ]
  },
  {
   "cell_type": "code",
   "execution_count": 55,
   "id": "e546c2e5-e55e-4090-b770-27a1e5844e98",
   "metadata": {},
   "outputs": [],
   "source": [
    "say_nick('바보')"
   ]
  },
  {
   "cell_type": "code",
   "execution_count": 56,
   "id": "613b3d22-984e-4edb-96fd-8b8ee6cc7def",
   "metadata": {},
   "outputs": [
    {
     "name": "stdout",
     "output_type": "stream",
     "text": [
      "나의 별명은 야호입니다.\n"
     ]
    }
   ],
   "source": [
    "say_nick('야호')"
   ]
  },
  {
   "cell_type": "markdown",
   "id": "5d971d75-88a2-4956-a1f5-cc6f8d832728",
   "metadata": {},
   "source": [
    "# 파일 읽고 쓰기"
   ]
  },
  {
   "cell_type": "markdown",
   "id": "f01253f6-23d8-42b4-abb1-ea10d7bc8780",
   "metadata": {},
   "source": [
    "## 파일 생성하기"
   ]
  },
  {
   "cell_type": "code",
   "execution_count": null,
   "id": "89f3bf56-cd5b-4db4-839d-cae0a6a5ab2e",
   "metadata": {},
   "outputs": [],
   "source": [
    "# newfile.py\n",
    "f = open(\"새파일.txt\", 'w')\n",
    "f.close()"
   ]
  },
  {
   "cell_type": "code",
   "execution_count": null,
   "id": "00ac7a81-bfad-47bc-b247-ef87e6c4023d",
   "metadata": {},
   "outputs": [],
   "source": [
    "파일_객체 = open(파일_이름, 파일_열기_모드)"
   ]
  },
  {
   "cell_type": "code",
   "execution_count": null,
   "id": "e997031e-edd7-4638-8c1d-76972ef47219",
   "metadata": {},
   "outputs": [],
   "source": [
    "r = 읽기 모드 : 파일을 읽기만 할 때 사용한다.\n",
    "w = 쓰기 모드 : 파일에 내용을 쓸 때 사용한다.\n",
    "a = 추가 모드 : 파일의 마지막에 새로운 내용을 추가할 때 사용한다."
   ]
  },
  {
   "cell_type": "code",
   "execution_count": null,
   "id": "0b94e3a5-28b3-495b-994d-54df8163c4ca",
   "metadata": {},
   "outputs": [],
   "source": [
    "# newfile2.py\n",
    "f = open(\"C:/doit/새파일.txt\", 'w')\n",
    "f.close()"
   ]
  },
  {
   "cell_type": "code",
   "execution_count": null,
   "id": "800c66f8-3f83-4e02-8b8d-64952142e95d",
   "metadata": {},
   "outputs": [],
   "source": [
    "# write_data.py\n",
    "f = open(\"C:/doit/새파일.txt\", 'w')\n",
    "for i in range(1, 11):\n",
    "    data = \"%d번째 줄입니다.\\n\" % i\n",
    "    f.write(data)\n",
    "f.close()"
   ]
  },
  {
   "cell_type": "code",
   "execution_count": null,
   "id": "eb41667e-4f57-4f2a-84c4-0ce5c6be721e",
   "metadata": {},
   "outputs": [],
   "source": [
    "for i in range(1, 11):\n",
    "    data = \"%d번째 줄입니다.\\n\" % i\n",
    "    print(data)"
   ]
  },
  {
   "cell_type": "code",
   "execution_count": null,
   "id": "73a35f93-1b24-4455-95e3-ff74f83d07a2",
   "metadata": {},
   "outputs": [],
   "source": [
    "C:\\Users> cd C:\\doit\n",
    "C:\\doit> python write_data.py\n",
    "C:\\doit>"
   ]
  },
  {
   "cell_type": "markdown",
   "id": "f0e66dd7-4885-446a-b72a-e482740063c3",
   "metadata": {},
   "source": [
    "## 파일을 읽는 방법"
   ]
  },
  {
   "cell_type": "markdown",
   "id": "cf8c4d25-a6fb-400c-86af-de7cc7eb4283",
   "metadata": {},
   "source": [
    "### readlines 함수 사용하기"
   ]
  },
  {
   "cell_type": "code",
   "execution_count": 7,
   "id": "6dcc6b02-69bf-4973-b19b-cf230045fe73",
   "metadata": {
    "scrolled": true
   },
   "outputs": [
    {
     "ename": "FileNotFoundError",
     "evalue": "[Errno 2] No such file or directory: 'C:/doit/새파일.txt'",
     "output_type": "error",
     "traceback": [
      "\u001b[1;31m---------------------------------------------------------------------------\u001b[0m",
      "\u001b[1;31mFileNotFoundError\u001b[0m                         Traceback (most recent call last)",
      "Cell \u001b[1;32mIn[7], line 2\u001b[0m\n\u001b[0;32m      1\u001b[0m \u001b[38;5;66;03m# readline_test.py\u001b[39;00m\n\u001b[1;32m----> 2\u001b[0m f \u001b[38;5;241m=\u001b[39m \u001b[38;5;28;43mopen\u001b[39;49m\u001b[43m(\u001b[49m\u001b[38;5;124;43m\"\u001b[39;49m\u001b[38;5;124;43mC:/doit/새파일.txt\u001b[39;49m\u001b[38;5;124;43m\"\u001b[39;49m\u001b[43m,\u001b[49m\u001b[43m \u001b[49m\u001b[38;5;124;43m'\u001b[39;49m\u001b[38;5;124;43mr\u001b[39;49m\u001b[38;5;124;43m'\u001b[39;49m\u001b[43m)\u001b[49m\n\u001b[0;32m      3\u001b[0m line \u001b[38;5;241m=\u001b[39m f\u001b[38;5;241m.\u001b[39mreadline()\n\u001b[0;32m      4\u001b[0m \u001b[38;5;28mprint\u001b[39m(line)\n",
      "File \u001b[1;32m~\\AppData\\Local\\Programs\\Python\\Python313\\Lib\\site-packages\\IPython\\core\\interactiveshell.py:324\u001b[0m, in \u001b[0;36m_modified_open\u001b[1;34m(file, *args, **kwargs)\u001b[0m\n\u001b[0;32m    317\u001b[0m \u001b[38;5;28;01mif\u001b[39;00m file \u001b[38;5;129;01min\u001b[39;00m {\u001b[38;5;241m0\u001b[39m, \u001b[38;5;241m1\u001b[39m, \u001b[38;5;241m2\u001b[39m}:\n\u001b[0;32m    318\u001b[0m     \u001b[38;5;28;01mraise\u001b[39;00m \u001b[38;5;167;01mValueError\u001b[39;00m(\n\u001b[0;32m    319\u001b[0m         \u001b[38;5;124mf\u001b[39m\u001b[38;5;124m\"\u001b[39m\u001b[38;5;124mIPython won\u001b[39m\u001b[38;5;124m'\u001b[39m\u001b[38;5;124mt let you open fd=\u001b[39m\u001b[38;5;132;01m{\u001b[39;00mfile\u001b[38;5;132;01m}\u001b[39;00m\u001b[38;5;124m by default \u001b[39m\u001b[38;5;124m\"\u001b[39m\n\u001b[0;32m    320\u001b[0m         \u001b[38;5;124m\"\u001b[39m\u001b[38;5;124mas it is likely to crash IPython. If you know what you are doing, \u001b[39m\u001b[38;5;124m\"\u001b[39m\n\u001b[0;32m    321\u001b[0m         \u001b[38;5;124m\"\u001b[39m\u001b[38;5;124myou can use builtins\u001b[39m\u001b[38;5;124m'\u001b[39m\u001b[38;5;124m open.\u001b[39m\u001b[38;5;124m\"\u001b[39m\n\u001b[0;32m    322\u001b[0m     )\n\u001b[1;32m--> 324\u001b[0m \u001b[38;5;28;01mreturn\u001b[39;00m \u001b[43mio_open\u001b[49m\u001b[43m(\u001b[49m\u001b[43mfile\u001b[49m\u001b[43m,\u001b[49m\u001b[43m \u001b[49m\u001b[38;5;241;43m*\u001b[39;49m\u001b[43margs\u001b[49m\u001b[43m,\u001b[49m\u001b[43m \u001b[49m\u001b[38;5;241;43m*\u001b[39;49m\u001b[38;5;241;43m*\u001b[39;49m\u001b[43mkwargs\u001b[49m\u001b[43m)\u001b[49m\n",
      "\u001b[1;31mFileNotFoundError\u001b[0m: [Errno 2] No such file or directory: 'C:/doit/새파일.txt'"
     ]
    }
   ],
   "source": [
    "# readline_test.py\n",
    "f = open(\"C:/doit/새파일.txt\", 'r')\n",
    "line = f.readline()\n",
    "print(line)\n",
    "f.close()"
   ]
  },
  {
   "cell_type": "code",
   "execution_count": null,
   "id": "bae2659f-63e8-423d-96b9-fa9eb798c785",
   "metadata": {},
   "outputs": [],
   "source": [
    "# readline_all.py\n",
    "f = open(\"C:/doit/새파일.txt\", 'r')\n",
    "while True:\n",
    "    line = f.readline()\n",
    "    if not line: break\n",
    "    print(line)\n",
    "f.close()"
   ]
  },
  {
   "cell_type": "code",
   "execution_count": null,
   "id": "e6ea4a31-9df4-4be9-a62e-8b7249f79e7c",
   "metadata": {},
   "outputs": [],
   "source": [
    "while True:\n",
    "    data = input()\n",
    "    if not data: break\n",
    "    print(data)"
   ]
  },
  {
   "cell_type": "markdown",
   "id": "67e0b6e7-32f9-4176-9a91-777e432bf249",
   "metadata": {},
   "source": [
    "### readlines 함수 사용하기"
   ]
  },
  {
   "cell_type": "code",
   "execution_count": null,
   "id": "703c2136-8f1b-497a-9996-947f6190755a",
   "metadata": {},
   "outputs": [],
   "source": [
    "# readlines.py\n",
    "f = open(\"C:/doit/새파일.txt\", 'r')\n",
    "lines = f.readlines()\n",
    "for line in lines:\n",
    "    print(line)\n",
    "f.close()"
   ]
  },
  {
   "cell_type": "markdown",
   "id": "d0ec172b-cc4e-4733-8114-2c21f8e1f81b",
   "metadata": {},
   "source": [
    "### 파일 객체를 for 문과 함께 사용하기"
   ]
  },
  {
   "cell_type": "code",
   "execution_count": null,
   "id": "5addca37-df23-4aad-8985-9ea3370e4f16",
   "metadata": {},
   "outputs": [],
   "source": [
    "# read_for.py\n",
    "f = open(\"C:/doit/새파일.txt\", 'r')\n",
    "for line in f:\n",
    "    print(line)\n",
    "f.close()"
   ]
  },
  {
   "cell_type": "markdown",
   "id": "7efe3603-d2e6-4e3d-a91d-b97827bae676",
   "metadata": {},
   "source": [
    "### 파일에 새로운 내용 추가하기"
   ]
  },
  {
   "cell_type": "code",
   "execution_count": null,
   "id": "66cda612-8db0-434e-9688-f0a800bf880e",
   "metadata": {},
   "outputs": [],
   "source": [
    "# add_data.py\n",
    "f = open(\"C:/doit/새파일.txt\",'a')\n",
    "for i in range(11, 20):\n",
    "    data = \"%d번째 줄입니다.\\n\" % i\n",
    "    f.write(data)\n",
    "f.close()\n"
   ]
  },
  {
   "cell_type": "markdown",
   "id": "34336c2f-d4a1-4227-bf0c-07e6eac48e9c",
   "metadata": {},
   "source": [
    "### with 문과 함께 사용하기"
   ]
  },
  {
   "cell_type": "code",
   "execution_count": null,
   "id": "294930a4-e38b-46f6-9286-77575e5baefc",
   "metadata": {},
   "outputs": [],
   "source": [
    "f = open(\"foo.txt\", 'w')\n",
    "f.write(\"Life is too short, you need python\")\n",
    "f.close()"
   ]
  },
  {
   "cell_type": "code",
   "execution_count": null,
   "id": "e89460e9-01a4-4935-a397-0443900428d8",
   "metadata": {},
   "outputs": [],
   "source": [
    "# file_with.py\n",
    "with open(\"foo.txt\", \"w\") as f:\n",
    "    f.write(\"Life is too short, you need python\")\n"
   ]
  },
  {
   "cell_type": "markdown",
   "id": "a6fd431a-451e-4ac0-8100-9f9600e7cb92",
   "metadata": {},
   "source": [
    "## 프로그램의 입출력"
   ]
  },
  {
   "cell_type": "code",
   "execution_count": null,
   "id": "18b0c34a-54b2-44c5-978e-6fa7e6670290",
   "metadata": {},
   "outputs": [],
   "source": [
    "C:\\> type a.txt\n",
    "\n",
    "명령어 [인수1 인수2 ...]"
   ]
  },
  {
   "cell_type": "markdown",
   "id": "1410d278-8550-4a67-9bb2-86bff0e36b06",
   "metadata": {},
   "source": [
    "### sys 모듈 사용하기"
   ]
  },
  {
   "cell_type": "code",
   "execution_count": null,
   "id": "7d6062d4-4a96-4054-b622-5ceb71767b94",
   "metadata": {},
   "outputs": [],
   "source": [
    "# sys1.py\n",
    "import sys\n",
    "\n",
    "args = sys.argv[1:]\n",
    "for i in args:\n",
    "    print(i)\n"
   ]
  },
  {
   "cell_type": "code",
   "execution_count": null,
   "id": "48f79727-e04d-4618-9731-9a32e548ffe9",
   "metadata": {},
   "outputs": [],
   "source": [
    "# sys2.py\n",
    "import sys\n",
    "args = sys.argv[1:]\n",
    "for i in args:\n",
    "    print(i.upper(), end=' ')"
   ]
  },
  {
   "cell_type": "code",
   "execution_count": null,
   "id": "fb24d590-d8f5-4fad-8bb5-d8ea382e9d24",
   "metadata": {},
   "outputs": [],
   "source": []
  },
  {
   "cell_type": "code",
   "execution_count": null,
   "id": "0df5e681-5c9b-418f-b7ee-6ac574297ba8",
   "metadata": {},
   "outputs": [],
   "source": [
    "import requests as req\n",
    "url = \"\"\n",
    "web = req.get(url)\n",
    "html = web.text\n",
    "# print(html)\n",
    "f1 = html.find('삼성전자')\n",
    "print()\n",
    "print()\n",
    "f2 = html.find('기아')\n",
    "print()\n",
    "print()"
   ]
  },
  {
   "cell_type": "code",
   "execution_count": null,
   "id": "426aca8f-9ae5-4645-a0ab-6db1f0df369a",
   "metadata": {},
   "outputs": [],
   "source": []
  }
 ],
 "metadata": {
  "kernelspec": {
   "display_name": "Python 3 (ipykernel)",
   "language": "python",
   "name": "python3"
  },
  "language_info": {
   "codemirror_mode": {
    "name": "ipython",
    "version": 3
   },
   "file_extension": ".py",
   "mimetype": "text/x-python",
   "name": "python",
   "nbconvert_exporter": "python",
   "pygments_lexer": "ipython3",
   "version": "3.13.1"
  }
 },
 "nbformat": 4,
 "nbformat_minor": 5
}
